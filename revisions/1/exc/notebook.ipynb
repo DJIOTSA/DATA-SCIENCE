{
 "cells": [
  {
   "cell_type": "markdown",
   "id": "4130f6df",
   "metadata": {},
   "source": [
    "# The Problem: Step-by-Step Analysis\n",
    "Follow these steps to complete the analysis."
   ]
  },
  {
   "cell_type": "markdown",
   "id": "8240bba3",
   "metadata": {},
   "source": [
    "# Part 1: Data Loading and Initial Exploration\n",
    "Objective: Load the data and get a first impression using basic pandas methods.\n",
    "Import pandas.\n",
    "Load the three CSV files into separate DataFrames: sales, products, and stores.\n",
    "For the sales DataFrame, inspect the first few rows using .head() and check its overall structure, data types, and for missing values using .info().\n",
    "\n",
    "import pandas as pd\n",
    "\n",
    "# 1 & 2. Load the data\n",
    "sales = pd.read_csv('sales.csv')\n",
    "products = pd.read_csv('products.csv')\n",
    "stores = pd.read_csv('stores.csv')\n",
    "\n",
    "# 3. Initial exploration of the sales data\n",
    "print(\"--- Sales DataFrame Head ---\")\n",
    "print(sales.head())\n",
    "print(\"\\n--- Sales DataFrame Info ---\")\n",
    "sales.info()"
   ]
  },
  {
   "cell_type": "code",
   "execution_count": null,
   "id": "cecb1905",
   "metadata": {
    "vscode": {
     "languageId": "plaintext"
    }
   },
   "outputs": [],
   "source": []
  },
  {
   "cell_type": "markdown",
   "id": "84c069b2",
   "metadata": {},
   "source": [
    "# Part 2: Data Cleaning and Preparation\n",
    "Objective: Handle missing data and create new, more useful columns.\n",
    "The price_per_item for order 1007 is missing. A similar product (Smart Watch) costs $150. Fill the missing value in the price_per_item column with 150.0.\n",
    "Create a new column in the sales DataFrame called total_price by multiplying quantity by price_per_item.\n",
    "Convert the sale_date column to a proper datetime object using pd.to_datetime(). This will enable time-based filtering later.\n",
    "\n",
    "# 1. Fill missing price\n",
    "sales['price_per_item'] = sales['price_per_item'].fillna(150.0)\n",
    "\n",
    "# 2. Create total_price column\n",
    "sales['total_price'] = sales['quantity'] * sales['price_per_item']\n",
    "\n",
    "# 3. Convert sale_date to datetime\n",
    "sales['sale_date'] = pd.to_datetime(sales['sale_date'])\n",
    "\n",
    "print(\"\\n--- Cleaned Sales DataFrame ---\")\n",
    "print(sales)\n",
    "sales.info()"
   ]
  },
  {
   "cell_type": "code",
   "execution_count": null,
   "id": "75c70ee5",
   "metadata": {
    "vscode": {
     "languageId": "plaintext"
    }
   },
   "outputs": [],
   "source": []
  },
  {
   "cell_type": "markdown",
   "id": "389b858d",
   "metadata": {},
   "source": [
    "# Part 3: Merging DataFrames for a Complete View\n",
    "Objective: Combine the separate tables into a single master DataFrame for comprehensive analysis.\n",
    "Merge the sales DataFrame with the products DataFrame. Since not all products have been sold, perform a left join with sales as the left table. Use product_id as the key. Call the new DataFrame sales_products.\n",
    "Now, merge sales_products with the stores DataFrame using an inner join on store_id. Call the final DataFrame full_data.\n",
    "Print the head of full_data to see the combined result.\n",
    "\n",
    "# 1. Left merge sales with products\n",
    "sales_products = sales.merge(products, on='product_id', how='left')\n",
    "\n",
    "# 2. Inner merge with stores\n",
    "full_data = sales_products.merge(stores, on='store_id', how='inner')\n",
    "\n",
    "# 3. Print the head of the final DataFrame\n",
    "print(\"\\n--- Full Merged DataFrame ---\")\n",
    "print(full_data.head())"
   ]
  },
  {
   "cell_type": "code",
   "execution_count": null,
   "id": "76893b18",
   "metadata": {
    "vscode": {
     "languageId": "plaintext"
    }
   },
   "outputs": [],
   "source": []
  },
  {
   "cell_type": "markdown",
   "id": "1b1d8511",
   "metadata": {},
   "source": [
    "# Part 4: Analysis and Aggregation\n",
    "Objective: Use grouping and aggregation to answer key business questions.\n",
    "The supplier_cost for the \"Gaming Laptop\" is missing. Before calculating profit, fill this missing value with an estimated cost of 280.0.\n",
    "Create a profit column in full_data calculated as total_price - (supplier_cost * quantity).\n",
    "What is the total profit for each category? Group the data by category and calculate the sum of the profit.\n",
    "What is the average total_price of sales in each city?\n",
    "\n",
    "\n",
    "# 1. Fill missing supplier cost\n",
    "full_data['supplier_cost'] = full_data['supplier_cost'].fillna(280.0)\n",
    "\n",
    "# 2. Calculate profit\n",
    "full_data['profit'] = full_data['total_price'] - (full_data['supplier_cost'] * full_data['quantity'])\n",
    "\n",
    "# 3. Total profit by category\n",
    "profit_by_category = full_data.groupby('category')['profit'].sum()\n",
    "print(\"\\n--- Total Profit by Category ---\")\n",
    "print(profit_by_category)\n",
    "\n",
    "# 4. Average sale price by city\n",
    "avg_sale_by_city = full_data.groupby('city')['total_price'].mean()\n",
    "print(\"\\n--- Average Sale Price by City ---\")\n",
    "print(avg_sale_by_city)"
   ]
  },
  {
   "cell_type": "code",
   "execution_count": null,
   "id": "e99b0894",
   "metadata": {
    "vscode": {
     "languageId": "plaintext"
    }
   },
   "outputs": [],
   "source": []
  },
  {
   "cell_type": "markdown",
   "id": "20bcbb72",
   "metadata": {},
   "source": [
    "Part 5: Advanced Filtering and Logic with Loops\n",
    "Objective: Use loops and conditional logic to add a categorical column based on performance.\n",
    "Scenario: The company wants to give a bonus status to orders. The logic is:\n",
    "'Gold' for orders with a profit over $200.\n",
    "'Silver' for orders with a profit between $50 and $200.\n",
    "'Bronze' for all other orders.\n",
    "Create an empty list called bonus_tier.\n",
    "Iterate over the rows of the full_data DataFrame using .iterrows().\n",
    "Inside the loop, use an if-elif-else statement to check the profit for each row and append the correct string ('Gold', 'Silver', or 'Bronze') to the bonus_tier list.\n",
    "Add the bonus_tier list as a new column called bonus_status to the full_data DataFrame.\n",
    "Print the full_data DataFrame, showing only the order_id, profit, and bonus_status columns.\n",
    "\n",
    "\n",
    "\n",
    "# 1. Create an empty list\n",
    "bonus_tier = []\n",
    "\n",
    "# 2 & 3. Iterate and apply conditional logic\n",
    "for index, row in full_data.iterrows():\n",
    "    if row['profit'] > 200:\n",
    "        bonus_tier.append('Gold')\n",
    "    elif row['profit'] >= 50:\n",
    "        bonus_tier.append('Silver')\n",
    "    else:\n",
    "        bonus_tier.append('Bronze')\n",
    "\n",
    "# 4. Add the new column\n",
    "full_data['bonus_status'] = bonus_tier\n",
    "\n",
    "# 5. Display the result\n",
    "print(\"\\n--- Order Bonus Status ---\")\n",
    "print(full_data[['order_id', 'profit', 'bonus_status']])"
   ]
  },
  {
   "cell_type": "code",
   "execution_count": null,
   "id": "8f78e0bc",
   "metadata": {
    "vscode": {
     "languageId": "plaintext"
    }
   },
   "outputs": [],
   "source": []
  },
  {
   "cell_type": "markdown",
   "id": "e1d7abc2",
   "metadata": {},
   "source": [
    "Part 6: Visualization for Reporting\n",
    "Objective: Create plots to visually communicate your findings to your manager.\n",
    "Generate a histogram of the profit column to understand its distribution. Add a title.\n",
    "Calculate the total sales (total_price) for each state.\n",
    "Create a bar chart showing the total sales by state. Add a title and labels for the axes.\n",
    "\n",
    "\n",
    "\n",
    "\n",
    "import matplotlib.pyplot as plt\n",
    "\n",
    "# 1. Histogram of profit\n",
    "full_data['profit'].hist()\n",
    "plt.title('Distribution of Profit per Order')\n",
    "plt.xlabel('Profit ($)')\n",
    "plt.ylabel('Number of Orders')\n",
    "plt.show()\n",
    "\n",
    "# 2. Calculate total sales by state\n",
    "sales_by_state = full_data.groupby('state')['total_price'].sum()\n",
    "\n",
    "# 3. Create a bar chart\n",
    "sales_by_state.plot(kind='bar')\n",
    "plt.title('Total Sales by State (Q1 2023)')\n",
    "plt.xlabel('State')\n",
    "plt.ylabel('Total Sales ($)')\n",
    "plt.xticks(rotation=45)\n",
    "plt.tight_layout() # Adjust plot to prevent labels from overlapping\n",
    "plt.show()"
   ]
  },
  {
   "cell_type": "markdown",
   "id": "7a8d0de3",
   "metadata": {},
   "source": []
  },
  {
   "cell_type": "code",
   "execution_count": null,
   "id": "7c8f424b",
   "metadata": {
    "vscode": {
     "languageId": "plaintext"
    }
   },
   "outputs": [],
   "source": []
  },
  {
   "cell_type": "markdown",
   "id": "f560a03a",
   "metadata": {},
   "source": []
  }
 ],
 "metadata": {
  "language_info": {
   "name": "python"
  }
 },
 "nbformat": 4,
 "nbformat_minor": 5
}
