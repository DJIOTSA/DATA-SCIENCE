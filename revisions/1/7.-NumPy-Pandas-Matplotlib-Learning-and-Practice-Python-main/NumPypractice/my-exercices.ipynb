{
 "cells": [
  {
   "cell_type": "markdown",
   "id": "e9f8192d",
   "metadata": {},
   "source": [
    "# Pratique"
   ]
  },
  {
   "cell_type": "markdown",
   "id": "32377abf",
   "metadata": {},
   "source": [
    "## 1. Import numpy as np and see the version"
   ]
  },
  {
   "cell_type": "code",
   "execution_count": 2,
   "id": "ce8445c6",
   "metadata": {},
   "outputs": [
    {
     "name": "stdout",
     "output_type": "stream",
     "text": [
      "2.2.6\n"
     ]
    }
   ],
   "source": [
    "import numpy as np\n",
    "\n",
    "print(np.__version__)"
   ]
  },
  {
   "cell_type": "markdown",
   "id": "b784bced",
   "metadata": {},
   "source": [
    "## 2. How to create a boolean array? ( Create a 3×3 numpy array of all True’s)"
   ]
  },
  {
   "cell_type": "code",
   "execution_count": 7,
   "id": "ba89dff0",
   "metadata": {},
   "outputs": [
    {
     "name": "stdout",
     "output_type": "stream",
     "text": [
      "[[ True  True  True]\n",
      " [ True  True  True]\n",
      " [ True  True  True]]\n",
      "------\n",
      "[[False False False]\n",
      " [False False False]\n",
      " [False False False]]\n"
     ]
    }
   ],
   "source": [
    "# method 1\n",
    "boolArr = np.ones([3,3], dtype=bool)\n",
    "print(boolArr)\n",
    "print('------')\n",
    "\n",
    "# Method 2\n",
    "boolArr = np.full((3,3), False)\n",
    "print(boolArr)"
   ]
  },
  {
   "cell_type": "markdown",
   "id": "f1303e89",
   "metadata": {},
   "source": [
    "## 3. How to extract items that satisfy a given condition from 1D array?\n",
    "\n",
    "\n",
    "\n",
    " Input -> arr = np.array([0, 1, 2, 3, 4, 5, 6, 7, 8, 9])\n",
    " \n",
    " Output -> [1, 3, 5, 7, 9]\n"
   ]
  },
  {
   "cell_type": "code",
   "execution_count": 22,
   "id": "49de21fb",
   "metadata": {},
   "outputs": [
    {
     "name": "stdout",
     "output_type": "stream",
     "text": [
      "[1 3 5 7 9]\n",
      "------\n",
      "[1 3 5 7 9]\n"
     ]
    }
   ],
   "source": [
    "arr = np.array([0, 1, 2, 3, 4, 5, 6, 7, 8, 9])\n",
    "c = arr[1:10:2]\n",
    "print(c)\n",
    "print('------')\n",
    "print(arr[arr % 2 == 1])"
   ]
  },
  {
   "cell_type": "markdown",
   "id": "6f505b9e",
   "metadata": {},
   "source": [
    "# 4. How to replace items that satisfy a condition with another value in numpy array?\n",
    "\n",
    "\n",
    "#Replace all odd numbers in arr with -1 without changing arr\n",
    "\n",
    "#Input: arr = np.array([0, 1, 2, 3, 4, 5, 6, 7, 8, 9])\n",
    "\n",
    "#Output: array([ 0, -1,  2, -1,  4, -1,  6, -1,  8, -1])"
   ]
  },
  {
   "cell_type": "code",
   "execution_count": 26,
   "id": "881029c0",
   "metadata": {},
   "outputs": [
    {
     "name": "stdout",
     "output_type": "stream",
     "text": [
      "[ 0 -1  2 -1  4 -1  6 -1  8 -1]\n",
      "-------\n",
      "[ 0 -1  2 -1  4 -1  6 -1  8 -1]\n"
     ]
    }
   ],
   "source": [
    "out = arr[:]\n",
    "out[c] = -1\n",
    "print(out)\n",
    "print('-------')\n",
    "\n",
    "arr = np.arange(10)\n",
    "out = np.where(arr % 2 == 1, -1, arr)\n",
    "print(out)"
   ]
  },
  {
   "cell_type": "markdown",
   "id": "30a80d6d",
   "metadata": {},
   "source": [
    "# 5. How to reshape an array?\n",
    "\n",
    "\n",
    "Convert a 1D array to a 2D array with 2 rows\n",
    "\n",
    "Input: a = np.arange(10)"
   ]
  },
  {
   "cell_type": "code",
   "execution_count": 36,
   "id": "089eb7b3",
   "metadata": {},
   "outputs": [
    {
     "name": "stdout",
     "output_type": "stream",
     "text": [
      "[[0 1 2 3 4]\n",
      " [5 6 7 8 9]]\n"
     ]
    }
   ],
   "source": [
    "a = np.arange(10)\n",
    "print(a.reshape(2,-1))"
   ]
  },
  {
   "cell_type": "markdown",
   "id": "91e9ab79",
   "metadata": {},
   "source": [
    "## 6. How to stack two arrays vertically?\n",
    "\n",
    "\n",
    "Stack arrays a and b vertically\n",
    "\n",
    "Input: \n",
    "\n",
    "a = np.arange(10).reshape(2,-1)\n",
    "\n",
    "b = np.repeat(1, 10).reshape(2,-1)"
   ]
  },
  {
   "cell_type": "code",
   "execution_count": 41,
   "id": "6b321b30",
   "metadata": {},
   "outputs": [
    {
     "name": "stdout",
     "output_type": "stream",
     "text": [
      "[[0 1 2 3 4]\n",
      " [5 6 7 8 9]\n",
      " [1 1 1 1 1]\n",
      " [1 1 1 1 1]]\n"
     ]
    }
   ],
   "source": [
    "a = np.arange(10).reshape(2,-1)\n",
    "b = np.repeat(1, 10).reshape(2,-1)\n",
    "\n",
    "print(np.vstack([a,b]))"
   ]
  }
 ],
 "metadata": {
  "kernelspec": {
   "display_name": "venv",
   "language": "python",
   "name": "python3"
  },
  "language_info": {
   "codemirror_mode": {
    "name": "ipython",
    "version": 3
   },
   "file_extension": ".py",
   "mimetype": "text/x-python",
   "name": "python",
   "nbconvert_exporter": "python",
   "pygments_lexer": "ipython3",
   "version": "3.10.12"
  }
 },
 "nbformat": 4,
 "nbformat_minor": 5
}
