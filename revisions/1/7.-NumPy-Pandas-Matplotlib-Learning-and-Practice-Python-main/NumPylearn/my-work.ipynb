{
 "cells": [
  {
   "cell_type": "markdown",
   "id": "65754f1b",
   "metadata": {},
   "source": [
    "# Numpy Mastering\n",
    "\n",
    "\n",
    "*** What is numPy? ***\n",
    "\n",
    "It is a multidimensional array library that only accept elements of the same type and is used to compute complex task more efficiently than traditional list.\n",
    "\n",
    "*** Applications of Numpy: ***\n",
    "\n",
    "-Mathematics\n",
    "-Plotting (with Matplotlib)\n",
    "-Backend (Pandas, Connect 4, Digital Photography)\n",
    "-Machine Learning \n",
    "\n",
    "\n",
    "\n"
   ]
  },
  {
   "cell_type": "markdown",
   "id": "5000aa58",
   "metadata": {},
   "source": [
    "## Basic commands"
   ]
  },
  {
   "cell_type": "code",
   "execution_count": 1,
   "id": "7b50d9d1",
   "metadata": {},
   "outputs": [],
   "source": [
    "import numpy as np"
   ]
  },
  {
   "cell_type": "code",
   "execution_count": 15,
   "id": "ec14cea4",
   "metadata": {},
   "outputs": [
    {
     "name": "stdout",
     "output_type": "stream",
     "text": [
      "1D:\n",
      " [1 2 3 4]\n",
      "2D:\n",
      " [[ 3  4  5  6  8 90]\n",
      " [ 3  0  5  1 -3 -6]]\n",
      "3D:\n",
      " [[[1 2 3 4 5]\n",
      "  [0 9 8 7 6]\n",
      "  [5 4 6 3 7]]\n",
      "\n",
      " [[1 2 3 4 5]\n",
      "  [0 9 8 7 6]\n",
      "  [5 4 6 3 7]]\n",
      "\n",
      " [[1 2 3 4 5]\n",
      "  [0 9 8 7 6]\n",
      "  [5 4 6 3 7]]\n",
      "\n",
      " [[1 2 3 4 5]\n",
      "  [0 9 8 7 6]\n",
      "  [5 4 6 3 7]]]\n",
      "4D:\n",
      " [[[[ 2.   4.   6. ]\n",
      "   [ 4.  16.   0. ]]\n",
      "\n",
      "  [[ 2.  10.  18. ]\n",
      "   [-4.  18.   6. ]]]\n",
      "\n",
      "\n",
      " [[[-4.  -3.  -2. ]\n",
      "   [-3.   3.  -5. ]]\n",
      "\n",
      "  [[-4.   0.   4. ]\n",
      "   [-7.   4.  -2. ]]]\n",
      "\n",
      "\n",
      " [[[ 0.5  1.   1.5]\n",
      "   [ 1.   4.   0. ]]\n",
      "\n",
      "  [[ 0.5  2.5  4.5]\n",
      "   [-1.   4.5  1.5]]]]\n"
     ]
    }
   ],
   "source": [
    "a = np.array([1,2,3,4]) # 1D\n",
    "print(\"1D:\\n\", a)\n",
    "\n",
    "b= np.array([\n",
    "    [3,4,5,6,8,90], \n",
    "    [3,0,5,1,-3,-6]\n",
    "]) # 2D\n",
    "print(\"2D:\\n\", b)\n",
    "\n",
    "d = np.array([\n",
    "    [[1,2,3,4,5],[0,9,8,7,6],[5,4,6,3,7]],\n",
    "    [[1,2,3,4,5],[0,9,8,7,6],[5,4,6,3,7]],\n",
    "    [[1,2,3,4,5],[0,9,8,7,6],[5,4,6,3,7]],\n",
    "    [[1,2,3,4,5],[0,9,8,7,6],[5,4,6,3,7]]\n",
    "]) # 3D\n",
    "print(\"3D:\\n\", d)\n",
    "\n",
    "e = np.array(\n",
    "    [c*2,c-5,c/2]\n",
    ") # 4D\n",
    "print(\"4D:\\n\", e)\n"
   ]
  },
  {
   "cell_type": "code",
   "execution_count": 20,
   "id": "ceb93b7f",
   "metadata": {},
   "outputs": [
    {
     "name": "stdout",
     "output_type": "stream",
     "text": [
      "a.ndim: 1\n",
      "b.ndim: 2\n",
      "d.ndim: 3\n",
      "e.ndim: 4\n"
     ]
    }
   ],
   "source": [
    "#  get the dimension\n",
    "print(\"a.ndim:\",a.ndim )\n",
    "print(\"b.ndim:\", b.ndim )\n",
    "print(\"d.ndim:\", d.ndim )\n",
    "print(\"e.ndim:\", e.ndim )"
   ]
  },
  {
   "cell_type": "code",
   "execution_count": 21,
   "id": "40c76a17",
   "metadata": {},
   "outputs": [
    {
     "name": "stdout",
     "output_type": "stream",
     "text": [
      "a.shape: (4,)\n",
      "b.shape: (2, 6)\n",
      "d.shape: (4, 3, 5)\n",
      "e.shape: (3, 2, 2, 3)\n"
     ]
    }
   ],
   "source": [
    "#Get shape (like length for 1D, rows and columns for 2D, length, width and height for 3D)\n",
    "print(\"a.shape:\",a.shape)\n",
    "print(\"b.shape:\", b.shape)\n",
    "print(\"d.shape:\", d.shape)\n",
    "print(\"e.shape:\", e.shape)"
   ]
  },
  {
   "cell_type": "code",
   "execution_count": 30,
   "id": "b4c7f8d7",
   "metadata": {},
   "outputs": [
    {
     "name": "stdout",
     "output_type": "stream",
     "text": [
      "int\n",
      "int16\n",
      "\n",
      "float\n",
      "float64\n"
     ]
    }
   ],
   "source": [
    "#Floats are usually larger in bit/byte size compared to integers\n",
    "c = np.array([1,2,3,4], dtype='int16')\n",
    "print(\"int\")\n",
    "print(c.dtype)\n",
    "c2 = np.array([1.2,2.,3.,4.])\n",
    "print('\\nfloat')\n",
    "print(c2.dtype)\n"
   ]
  },
  {
   "cell_type": "code",
   "execution_count": 29,
   "id": "3424e80f",
   "metadata": {},
   "outputs": [
    {
     "name": "stdout",
     "output_type": "stream",
     "text": [
      "8\n",
      "8\n",
      "2\n",
      "8\n",
      "8\n"
     ]
    }
   ],
   "source": [
    "#Get itemsize (itemsize stands for number of bytes)\n",
    "print(a.itemsize)\n",
    "print(b.itemsize)\n",
    "print(c.itemsize)\n",
    "print(d.itemsize)\n",
    "print(e.itemsize)"
   ]
  },
  {
   "cell_type": "code",
   "execution_count": 35,
   "id": "658c01f5",
   "metadata": {},
   "outputs": [
    {
     "name": "stdout",
     "output_type": "stream",
     "text": [
      "36\n",
      "36\n",
      "288\n",
      "288\n"
     ]
    }
   ],
   "source": [
    "#Get size (gets total number of elements in the numpy array)\n",
    "print(e.size)\n",
    "print(e.size)\n",
    "\n",
    "#Get total itemsize (total bytes in the numpy array)\n",
    "print(e.size * e.itemsize)\n",
    "print(e.nbytes)  #.nbytes work too"
   ]
  },
  {
   "cell_type": "markdown",
   "id": "b5003abd",
   "metadata": {},
   "source": [
    "## Accessing data (upto2Darrays)"
   ]
  },
  {
   "cell_type": "code",
   "execution_count": 51,
   "id": "086c694c",
   "metadata": {},
   "outputs": [
    {
     "name": "stdout",
     "output_type": "stream",
     "text": [
      "[[ 3  4  5  6  8 90]\n",
      " [ 3  0  5  1 -3 -6]]\n",
      "(2, 6)\n",
      "b[1, 5]:\n",
      "\t -6\n",
      "\n",
      "b[:, 2:3]:\n",
      " [[5]\n",
      " [5]]\n",
      "\n",
      "b[0, 0:2]:\n",
      "\t [3 4]\n"
     ]
    }
   ],
   "source": [
    "print(b)\n",
    "print(b.shape)\n",
    "\n",
    "print(\"b[1, 5]:\\n\\t\", b[1, 5])\n",
    "print(\"\\nb[:, 2:3]:\\n\", b[:, 2:3])\n",
    "print(\"\\nb[0, 0:2]:\\n\\t\", b[0, 0:2])\n"
   ]
  },
  {
   "cell_type": "code",
   "execution_count": 67,
   "id": "582b8955",
   "metadata": {},
   "outputs": [
    {
     "name": "stdout",
     "output_type": "stream",
     "text": [
      "(4, 3, 5)\n",
      "[[[1 2 3 4 5]\n",
      "  [0 9 8 7 6]\n",
      "  [5 4 6 3 7]]]\n",
      "--------\n",
      "[[[5 4 6 3 7]]]\n",
      "--------\n",
      "4\n",
      "-----\n",
      "[3 4]\n"
     ]
    }
   ],
   "source": [
    "print(d.shape)\n",
    "\n",
    "print(d[0:1:4])\n",
    "print('--------')\n",
    "print(d[0:1:4][0:2, 2:])\n",
    "print('--------')\n",
    "b2 = np.array([[[1,2], [3,4]], [[5,6], [7,8]]])\n",
    "print(b2[0,1, 1])   #to get number 4\n",
    "print(\"-----\")\n",
    "print(b2[0, 1, :]) # get [3,4]"
   ]
  },
  {
   "cell_type": "code",
   "execution_count": null,
   "id": "3adc33f2",
   "metadata": {},
   "outputs": [],
   "source": []
  },
  {
   "cell_type": "code",
   "execution_count": 72,
   "id": "cc718229",
   "metadata": {},
   "outputs": [
    {
     "name": "stdout",
     "output_type": "stream",
     "text": [
      "[[[[ 2.   4.   6. ]\n",
      "   [ 4.  16.   0. ]]\n",
      "\n",
      "  [[ 2.  10.  18. ]\n",
      "   [-4.  18.   6. ]]]\n",
      "\n",
      "\n",
      " [[[-4.  -3.  -2. ]\n",
      "   [-3.   3.  -5. ]]\n",
      "\n",
      "  [[-4.   0.   4. ]\n",
      "   [-7.   4.  -2. ]]]\n",
      "\n",
      "\n",
      " [[[ 0.5  1.   1.5]\n",
      "   [ 1.   4.   0. ]]\n",
      "\n",
      "  [[ 0.5  2.5  4.5]\n",
      "   [-1.   4.5  1.5]]]]\n",
      "-------\n",
      "[0. 4.]\n"
     ]
    }
   ],
   "source": [
    "# get [0.0, 4.0 ]form e (4D)\n",
    "print(e)\n",
    "print('-------')\n",
    "print(e[1,1, 0, 1:])"
   ]
  },
  {
   "cell_type": "markdown",
   "id": "70d73c82",
   "metadata": {},
   "source": [
    "## Changing data"
   ]
  },
  {
   "cell_type": "code",
   "execution_count": 78,
   "id": "a68e76f1",
   "metadata": {},
   "outputs": [
    {
     "name": "stdout",
     "output_type": "stream",
     "text": [
      "[[ 3  1  7  6  8 90]\n",
      " [ 3  2  5 20 -3 20]]\n",
      "-----\n",
      "[[   3    1    7    6    8   90]\n",
      " [   3    2    5 7890   -3   20]]\n",
      "------\n",
      "[[   3    5    5    6    8   90]\n",
      " [   3    2    5 7890   -3   20]]\n",
      "-----\n",
      "[[   3    6    7    6    8   90]\n",
      " [   3    2    5 7890   -3   20]]\n",
      "------\n",
      "[[   3    1    7    6    8   90]\n",
      " [   3    2    5 7890   -3   20]]\n"
     ]
    }
   ],
   "source": [
    "print(b)\n",
    "print('-----')\n",
    "#Changing element, \n",
    "b[1, 3] = 7890\n",
    "print(b)\n",
    "print('------')\n",
    "\n",
    "#Changing rows\n",
    "b[0, 1:3] = 5\n",
    "print(b)\n",
    "print('-----')\n",
    "\n",
    "#If you wanna specify what each element will become instead of both becoming the same value\n",
    "b[0, 1:3] = [6, 7]\n",
    "print(b)\n",
    "print('------')\n",
    "\n",
    "#Changing columns\n",
    "b[:, 1] = [1, 2]\n",
    "print(b)"
   ]
  },
  {
   "cell_type": "markdown",
   "id": "c4489281",
   "metadata": {},
   "source": [
    "## initialising different arrays"
   ]
  },
  {
   "cell_type": "code",
   "execution_count": 84,
   "id": "d2451be3",
   "metadata": {},
   "outputs": [
    {
     "name": "stdout",
     "output_type": "stream",
     "text": [
      "[0. 0. 0. 0. 0.]\n",
      "--------\n",
      "[[0. 0. 0. 0. 0. 0.]\n",
      " [0. 0. 0. 0. 0. 0.]\n",
      " [0. 0. 0. 0. 0. 0.]]\n",
      "---------\n",
      "[[[0. 0.]\n",
      "  [0. 0.]\n",
      "  [0. 0.]\n",
      "  [0. 0.]]\n",
      "\n",
      " [[0. 0.]\n",
      "  [0. 0.]\n",
      "  [0. 0.]\n",
      "  [0. 0.]]\n",
      "\n",
      " [[0. 0.]\n",
      "  [0. 0.]\n",
      "  [0. 0.]\n",
      "  [0. 0.]]]\n"
     ]
    }
   ],
   "source": [
    "#Making an all 0s matrix\n",
    "zeros = np.zeros(5)\n",
    "print(zeros)\n",
    "print('--------')\n",
    "zeros2 = np.zeros([3,6])\n",
    "print(zeros2)\n",
    "print('---------')\n",
    "zeros3 = np.zeros([3,4, 2])\n",
    "print(zeros3)"
   ]
  },
  {
   "cell_type": "code",
   "execution_count": 85,
   "id": "eef0f242",
   "metadata": {},
   "outputs": [
    {
     "name": "stdout",
     "output_type": "stream",
     "text": [
      "[1. 1. 1. 1. 1.]\n",
      "--------\n",
      "[[1. 1. 1. 1. 1. 1.]\n",
      " [1. 1. 1. 1. 1. 1.]\n",
      " [1. 1. 1. 1. 1. 1.]]\n",
      "---------\n",
      "[[[1. 1.]\n",
      "  [1. 1.]\n",
      "  [1. 1.]\n",
      "  [1. 1.]]\n",
      "\n",
      " [[1. 1.]\n",
      "  [1. 1.]\n",
      "  [1. 1.]\n",
      "  [1. 1.]]\n",
      "\n",
      " [[1. 1.]\n",
      "  [1. 1.]\n",
      "  [1. 1.]\n",
      "  [1. 1.]]]\n"
     ]
    }
   ],
   "source": [
    "#Making an all 1s matrix\n",
    "ones = np.ones(5)\n",
    "print(ones)\n",
    "print('--------')\n",
    "ones2 = np.ones([3,6])\n",
    "print(ones2)\n",
    "print('---------')\n",
    "ones3 = np.ones([3,4, 2])\n",
    "print(ones3)"
   ]
  },
  {
   "cell_type": "code",
   "execution_count": 89,
   "id": "20bc0d52",
   "metadata": {},
   "outputs": [
    {
     "name": "stdout",
     "output_type": "stream",
     "text": [
      "[[[1000. 1000. 1000. 1000. 1000.]\n",
      "  [1000. 1000. 1000. 1000. 1000.]]\n",
      "\n",
      " [[1000. 1000. 1000. 1000. 1000.]\n",
      "  [1000. 1000. 1000. 1000. 1000.]]]\n"
     ]
    }
   ],
   "source": [
    "#Making an all of any other number. '.full()' function takes 2 parameters, the shape, and the number \n",
    "#you want to fill the elements with\n",
    "ez = np.full((2,2,5), 1000, dtype=\"float32\")\n",
    "print(ez)"
   ]
  },
  {
   "cell_type": "code",
   "execution_count": null,
   "id": "08c25f63",
   "metadata": {},
   "outputs": [
    {
     "name": "stdout",
     "output_type": "stream",
     "text": [
      "[[[[4. 4. 4.]\n",
      "   [4. 4. 4.]]\n",
      "\n",
      "  [[4. 4. 4.]\n",
      "   [4. 4. 4.]]]\n",
      "\n",
      "\n",
      " [[[4. 4. 4.]\n",
      "   [4. 4. 4.]]\n",
      "\n",
      "  [[4. 4. 4.]\n",
      "   [4. 4. 4.]]]\n",
      "\n",
      "\n",
      " [[[4. 4. 4.]\n",
      "   [4. 4. 4.]]\n",
      "\n",
      "  [[4. 4. 4.]\n",
      "   [4. 4. 4.]]]]\n"
     ]
    }
   ],
   "source": [
    "#Making an all of any other number using 'full_like()', which allows you to take in other array variables as its parameter\n",
    "#if you put 2D array 'f' in shape parameter it will create a new array with the shape of array 'f', but only takes the shape,\n",
    "#without its elements in it\n",
    "\n",
    "g = np.full_like(e, 4)  #g = np.full(f.shape, 4) works similarly too\n",
    "print(g)"
   ]
  },
  {
   "cell_type": "code",
   "execution_count": 99,
   "id": "a5e0f960",
   "metadata": {},
   "outputs": [
    {
     "name": "stdout",
     "output_type": "stream",
     "text": [
      "[0.65522075]\n",
      "------\n",
      "[[0.85319756 0.68781921 0.95864412]\n",
      " [0.82404396 0.47887257 0.03524913]\n",
      " [0.31364764 0.84101558 0.53128285]]\n",
      "------\n",
      "[[[0.65940879 0.57778617]\n",
      "  [0.57253274 0.03495534]]\n",
      "\n",
      " [[0.25596554 0.88996355]\n",
      "  [0.99339788 0.53432732]]\n",
      "\n",
      " [[0.35744082 0.76322236]\n",
      "  [0.19555706 0.10975256]]\n",
      "\n",
      " [[0.58474183 0.27388692]\n",
      "  [0.90987899 0.90622996]]]\n"
     ]
    }
   ],
   "source": [
    "#Making a random decimal numbers matrix\n",
    "print(np.random.rand(1))\n",
    "print('------')\n",
    "print(np.random.rand(3,3))\n",
    "print('------')\n",
    "print(np.random.rand(4, 2,2))"
   ]
  },
  {
   "cell_type": "code",
   "execution_count": 100,
   "id": "3c6a2869",
   "metadata": {},
   "outputs": [
    {
     "name": "stdout",
     "output_type": "stream",
     "text": [
      "[[[[0.98061209 0.51337711 0.58712703]\n",
      "   [0.62097643 0.13088567 0.6470676 ]]\n",
      "\n",
      "  [[0.22519778 0.30549274 0.2500233 ]\n",
      "   [0.9346499  0.66111147 0.21568258]]]\n",
      "\n",
      "\n",
      " [[[0.21323027 0.41050053 0.93541595]\n",
      "   [0.43408254 0.85787991 0.27079606]]\n",
      "\n",
      "  [[0.24861324 0.35233429 0.23111692]\n",
      "   [0.88324908 0.46711072 0.05794826]]]\n",
      "\n",
      "\n",
      " [[[0.04397571 0.09151232 0.47157486]\n",
      "   [0.69041544 0.18882628 0.02967939]]\n",
      "\n",
      "  [[0.19020215 0.95941918 0.0749578 ]\n",
      "   [0.59532705 0.87897356 0.94473956]]]]\n"
     ]
    }
   ],
   "source": [
    "#need use 'random_sample' command in order to take in array variables\n",
    "print(np.random.random_sample(e.shape))"
   ]
  },
  {
   "cell_type": "code",
   "execution_count": 106,
   "id": "3ea2154e",
   "metadata": {},
   "outputs": [
    {
     "name": "stdout",
     "output_type": "stream",
     "text": [
      "[[15  6 24 14]\n",
      " [ 9 20 24 25]\n",
      " [21  5  5 24]]\n",
      "--------\n",
      "[[[[0 0 1 0]\n",
      "   [0 2 2 0]]\n",
      "\n",
      "  [[2 0 1 2]\n",
      "   [0 2 0 0]]\n",
      "\n",
      "  [[2 1 1 1]\n",
      "   [2 0 2 0]]\n",
      "\n",
      "  [[1 1 2 2]\n",
      "   [2 0 1 1]]]\n",
      "\n",
      "\n",
      " [[[0 0 1 2]\n",
      "   [2 2 0 2]]\n",
      "\n",
      "  [[0 1 2 1]\n",
      "   [2 2 0 1]]\n",
      "\n",
      "  [[0 0 1 2]\n",
      "   [2 2 1 2]]\n",
      "\n",
      "  [[0 0 1 0]\n",
      "   [0 0 0 1]]]]\n"
     ]
    }
   ],
   "source": [
    "#Making a random integer numbers matrix\n",
    "#first parameter sets range of the random integers. So 7 means range from 0 to 7.\n",
    "#second parameter sets the shape, but the command is size here dk why but it works\n",
    "print(np.random.randint(27, size=(3,4)))\n",
    "print(\"--------\")\n",
    "print(np.random.randint(3, size=(2,4,2,4)))"
   ]
  },
  {
   "cell_type": "code",
   "execution_count": 107,
   "id": "a4e3d65c",
   "metadata": {},
   "outputs": [
    {
     "name": "stdout",
     "output_type": "stream",
     "text": [
      "[[1. 0. 0.]\n",
      " [0. 1. 0.]\n",
      " [0. 0. 1.]]\n"
     ]
    }
   ],
   "source": [
    "# Making the identity matrix (An identity matrix is a square matrix in which all the elements of principal \n",
    "#diagonals are one, and all other elements are zeros)\n",
    "print(np.identity(3))"
   ]
  },
  {
   "cell_type": "code",
   "execution_count": 117,
   "id": "3c1cde64",
   "metadata": {},
   "outputs": [
    {
     "name": "stdout",
     "output_type": "stream",
     "text": [
      "[[   3    1    7    6    8   90]\n",
      " [   3    2    5 7890   -3   20]]\n",
      "-------\n",
      "[[[1 2 3 4 5]\n",
      "  [1 2 3 4 5]\n",
      "  [0 9 8 7 6]\n",
      "  [0 9 8 7 6]\n",
      "  [5 4 6 3 7]\n",
      "  [5 4 6 3 7]]\n",
      "\n",
      " [[1 2 3 4 5]\n",
      "  [1 2 3 4 5]\n",
      "  [0 9 8 7 6]\n",
      "  [0 9 8 7 6]\n",
      "  [5 4 6 3 7]\n",
      "  [5 4 6 3 7]]\n",
      "\n",
      " [[1 2 3 4 5]\n",
      "  [1 2 3 4 5]\n",
      "  [0 9 8 7 6]\n",
      "  [0 9 8 7 6]\n",
      "  [5 4 6 3 7]\n",
      "  [5 4 6 3 7]]\n",
      "\n",
      " [[1 2 3 4 5]\n",
      "  [1 2 3 4 5]\n",
      "  [0 9 8 7 6]\n",
      "  [0 9 8 7 6]\n",
      "  [5 4 6 3 7]\n",
      "  [5 4 6 3 7]]]\n"
     ]
    }
   ],
   "source": [
    "#Repeating an array ('.repeat' has 3 parameters, the array, number of times to repeat, around which axis)\n",
    "print(b)\n",
    "print(\"-------\")\n",
    "print(np.repeat(d, 2, axis=1))"
   ]
  },
  {
   "cell_type": "markdown",
   "id": "c5e1704e",
   "metadata": {},
   "source": [
    "## Problem"
   ]
  },
  {
   "cell_type": "code",
   "execution_count": 120,
   "id": "b4ea0beb",
   "metadata": {},
   "outputs": [
    {
     "name": "stdout",
     "output_type": "stream",
     "text": [
      "[[1. 1. 1. 1. 1.]\n",
      " [1. 0. 0. 0. 1.]\n",
      " [1. 0. 9. 0. 1.]\n",
      " [1. 0. 0. 0. 1.]\n",
      " [1. 1. 1. 1. 1.]]\n"
     ]
    }
   ],
   "source": [
    "#Initialise this array pattern (try your best not to hardcode)\n",
    "#[[1. 1. 1. 1. 1.]\n",
    "# [1. 0. 0. 0. 1.]\n",
    "# [1. 0. 9. 0. 1.]\n",
    "# [1. 0. 0. 0. 1.]\n",
    "# [1. 1. 1. 1. 1.]]\n",
    "\n",
    "p1 = np.ones([5,5])\n",
    "p1[1:4,1:4]=0\n",
    "p1[2,2]=9\n",
    "print(p1)"
   ]
  },
  {
   "cell_type": "code",
   "execution_count": 122,
   "id": "bec32fbc",
   "metadata": {},
   "outputs": [
    {
     "name": "stdout",
     "output_type": "stream",
     "text": [
      "[[1. 1. 1. 1. 1.]\n",
      " [1. 0. 0. 0. 1.]\n",
      " [1. 0. 9. 0. 1.]\n",
      " [1. 0. 0. 0. 1.]\n",
      " [1. 1. 1. 1. 1.]]\n"
     ]
    }
   ],
   "source": [
    "#  how to copy array\n",
    "p2 = p1.copy()\n",
    "print(p2)"
   ]
  },
  {
   "cell_type": "markdown",
   "id": "450a88df",
   "metadata": {},
   "source": [
    "## Basic mathematic"
   ]
  },
  {
   "cell_type": "code",
   "execution_count": 127,
   "id": "9e152664",
   "metadata": {},
   "outputs": [
    {
     "name": "stdout",
     "output_type": "stream",
     "text": [
      "[3 4 5 6]\n",
      "-------\n",
      "[-1  0  1  2]\n",
      "-------\n",
      "[2 4 6 8]\n",
      "-------\n",
      "[ 1  4  9 16]\n",
      "-------\n",
      "[0.5 1.  1.5 2. ]\n",
      "-------\n",
      "[2 2 4 4]\n",
      "-------\n",
      "[ 0.84147098  0.90929743  0.14112001 -0.7568025 ]\n",
      "-------\n",
      "[ 0.54030231 -0.41614684 -0.9899925  -0.65364362]\n",
      "-------\n",
      "[ 1.55740772 -2.18503986 -0.14254654  1.15782128]\n",
      "-------\n",
      "[0.         0.69314718 1.09861229 1.38629436]\n",
      "-------\n",
      "[0.         0.30103    0.47712125 0.60205999]\n",
      "-------\n",
      "[[[0.         1.         1.5849625  2.         2.32192809]\n",
      "  [      -inf 3.169925   3.         2.80735492 2.5849625 ]\n",
      "  [2.32192809 2.         2.5849625  1.5849625  2.80735492]]\n",
      "\n",
      " [[0.         1.         1.5849625  2.         2.32192809]\n",
      "  [      -inf 3.169925   3.         2.80735492 2.5849625 ]\n",
      "  [2.32192809 2.         2.5849625  1.5849625  2.80735492]]\n",
      "\n",
      " [[0.         1.         1.5849625  2.         2.32192809]\n",
      "  [      -inf 3.169925   3.         2.80735492 2.5849625 ]\n",
      "  [2.32192809 2.         2.5849625  1.5849625  2.80735492]]\n",
      "\n",
      " [[0.         1.         1.5849625  2.         2.32192809]\n",
      "  [      -inf 3.169925   3.         2.80735492 2.5849625 ]\n",
      "  [2.32192809 2.         2.5849625  1.5849625  2.80735492]]]\n"
     ]
    },
    {
     "name": "stderr",
     "output_type": "stream",
     "text": [
      "/tmp/ipykernel_7082/3025753066.py:38: RuntimeWarning: divide by zero encountered in log2\n",
      "  print(np.log2(d))\n"
     ]
    }
   ],
   "source": [
    "#Addition of the elements\n",
    "print(a + 2)\n",
    "print('-------')\n",
    "\n",
    "#Subtraction of the elements\n",
    "print(a - 2)\n",
    "print('-------')\n",
    "\n",
    "#Multiplication of the elements\n",
    "print(a * 2)\n",
    "print('-------')\n",
    "\n",
    "#Squaring of the elements\n",
    "print(a ** 2)  #This means (a * 2^2)\n",
    "print('-------')\n",
    "\n",
    "#Division of the elements\n",
    "print(a / 2)\n",
    "print('-------')\n",
    "\n",
    "#Add/Subtract/Multiply/Divide 2 arrays together\n",
    "b = np.array([1,0,1,0])\n",
    "print(a + b)\n",
    "print('-------')\n",
    "\n",
    "#Trigonometry-ing the elements\n",
    "print(np.sin(a))\n",
    "print('-------')\n",
    "print(np.cos(a))\n",
    "print('-------')\n",
    "print(np.tan(a))\n",
    "print('-------')\n",
    "\n",
    "print(np.log(a))\n",
    "print('-------')\n",
    "print(np.log10(a))\n",
    "print('-------')\n",
    "print(np.log2(d))"
   ]
  },
  {
   "cell_type": "markdown",
   "id": "6666d987",
   "metadata": {},
   "source": [
    "## Reorganising array"
   ]
  },
  {
   "cell_type": "code",
   "execution_count": 147,
   "id": "a04a0f29",
   "metadata": {},
   "outputs": [
    {
     "name": "stdout",
     "output_type": "stream",
     "text": [
      "[[1 2 3 4]\n",
      " [5 6 7 8]]\n",
      "(2, 4)\n",
      "------\n",
      "\n",
      "[[1]\n",
      " [2]\n",
      " [3]\n",
      " [4]\n",
      " [5]\n",
      " [6]\n",
      " [7]\n",
      " [8]]\n",
      "------\n",
      "[[[1 2]\n",
      "  [3 4]]\n",
      "\n",
      " [[5 6]\n",
      "  [7 8]]]\n",
      "------\n",
      "\n",
      "[[1 2 3 4]\n",
      " [5 6 7 8]\n",
      " [1 2 3 4]\n",
      " [5 6 7 8]]\n",
      "------\n",
      "\n",
      "[[1. 1. 1. 1. 0. 0.]\n",
      " [1. 1. 1. 1. 0. 0.]]\n"
     ]
    }
   ],
   "source": [
    "before = np.array([[1,2,3,4], [5,6,7,8]])\n",
    "\n",
    "print(before)\n",
    "\n",
    "#This array's shape is now (4,2)\n",
    "print(before.shape)\n",
    "print('------\\n')\n",
    "\n",
    "#We can change its shape to however we want ((8,1), (4,2), (2,2,2) etc...) using '.reshape()'\n",
    "#As long as the number of values fit. So shapes like ((2,3) or (3,3,3)) won't work and you'll get an error\n",
    "after = before.reshape(8,1)\n",
    "after2 = before.reshape(2,2,2)\n",
    "print(after)\n",
    "print('------')\n",
    "print(after2)\n",
    "print('------\\n')\n",
    "\n",
    "#Vertically stacking matrices\n",
    "#Note that the arrays you are stacking must share the same column number or else it won't work\n",
    "#E.g. if v2 is [5,6,7,8,9], then you can't stack it on top of v1\n",
    "v1 = np.array([1,2,3,4])\n",
    "v2 = np.array([5,6,7,8])\n",
    "print(np.vstack([v1,v2,v1,v2])) \n",
    "print('------\\n')\n",
    "\n",
    "#Horizontally stacking matrices\n",
    "#Likewise, #Note that the arrays you are stacking must share the same row number or else it won't work\n",
    "#E.g. if h2 is np.zeros((3,2)), then you can't stack it beside h2\n",
    "h1 = np.ones((2,4))\n",
    "h2 = np.zeros((2,2))\n",
    "print(np.hstack([h1,h2]))"
   ]
  },
  {
   "cell_type": "markdown",
   "id": "2d83b8c5",
   "metadata": {},
   "source": [
    "## Load file"
   ]
  },
  {
   "cell_type": "code",
   "execution_count": 138,
   "id": "9255f1cf",
   "metadata": {},
   "outputs": [
    {
     "name": "stdout",
     "output_type": "stream",
     "text": [
      "[[  1.  13.  21.  11. 196.  75.   4.   3.  34.   6.   7.   8.   0.   1.\n",
      "    2.   3.   4.   5.]\n",
      " [  3.  42.  12.  33. 766.  75.   4.  55.   6.   4.   3.   4.   5.   6.\n",
      "    7.   0.  11.  12.]\n",
      " [  1.  22.  33.  11. 999.  11.   2.   1.  78.   0.   1.   2.   9.   8.\n",
      "    7.   1.  76.  88.]]\n",
      "------\n",
      "[nan nan nan]\n"
     ]
    },
    {
     "name": "stderr",
     "output_type": "stream",
     "text": [
      "/tmp/ipykernel_7082/174275216.py:11: RuntimeWarning: invalid value encountered in cast\n",
      "  file2.astype('int32')\n"
     ]
    },
    {
     "data": {
      "text/plain": [
       "array([-2147483648, -2147483648, -2147483648], dtype=int32)"
      ]
     },
     "execution_count": 138,
     "metadata": {},
     "output_type": "execute_result"
    }
   ],
   "source": [
    "file1 = np.genfromtxt('data.txt', delimiter=',');\n",
    "print(file1)\n",
    "print('------')\n",
    "file2 = np.genfromtxt('data.txt')\n",
    "print(file2)\n",
    "\n",
    "#Notice that all the data is in floats (as they have '.' at the end of the values)\n",
    "#To solve that, we redefine the data types from floats (float32/64/...) to ints (int8/16/32...) using the\n",
    "#'.astype' function\n",
    "\n",
    "file2.astype('int32')"
   ]
  },
  {
   "cell_type": "markdown",
   "id": "22776069",
   "metadata": {},
   "source": [
    "## Boolean masking advanced indexing"
   ]
  },
  {
   "cell_type": "code",
   "execution_count": 145,
   "id": "97805493",
   "metadata": {},
   "outputs": [
    {
     "name": "stdout",
     "output_type": "stream",
     "text": [
      "[[  1.  13.  21.  11. 196.  75.   4.   3.  34.   6.   7.   8.   0.   1.\n",
      "    2.   3.   4.   5.]\n",
      " [  3.  42.  12.  33. 766.  75.   4.  55.   6.   4.   3.   4.   5.   6.\n",
      "    7.   0.  11.  12.]\n",
      " [  1.  22.  33.  11. 999.  11.   2.   1.  78.   0.   1.   2.   9.   8.\n",
      "    7.   1.  76.  88.]]\n"
     ]
    }
   ],
   "source": [
    "filedata =  np.genfromtxt('data.txt', delimiter=',')\n",
    "print(filedata)"
   ]
  },
  {
   "cell_type": "code",
   "execution_count": 141,
   "id": "8f2f1ad6",
   "metadata": {},
   "outputs": [
    {
     "name": "stdout",
     "output_type": "stream",
     "text": [
      "[[False False False False  True  True False False False False False False\n",
      "  False False False False False False]\n",
      " [False False False False  True  True False  True False False False False\n",
      "  False False False False False False]\n",
      " [False False False False  True False False False  True False False False\n",
      "  False False False False  True  True]]\n",
      "------\n",
      "[196.  75. 766.  75.  55. 999.  78.  76.  88.]\n"
     ]
    }
   ],
   "source": [
    "#Print out filedata array with Boolean Masking (indicates with True or False if the value is larger than\n",
    "#50)\n",
    "print(filedata > 50)\n",
    "print('------')\n",
    "\n",
    "#Print out filedata values that have values > 50\n",
    "print(filedata[filedata > 50])"
   ]
  },
  {
   "cell_type": "code",
   "execution_count": 144,
   "id": "b7007816",
   "metadata": {},
   "outputs": [
    {
     "name": "stdout",
     "output_type": "stream",
     "text": [
      "[False False False False  True  True False  True  True False False False\n",
      " False False False False  True  True]\n",
      "-----\n",
      "[ True  True  True]\n"
     ]
    }
   ],
   "source": [
    "#Checks that in every column, and printing a boolean value (True/False), if ANY of the values meet the condition\n",
    "#e.g. > 50\n",
    "print(np.any(filedata > 50, axis=0)) # for column\n",
    "print('-----')\n",
    "print(np.any(filedata > 50, axis=1)) # for rows"
   ]
  },
  {
   "cell_type": "code",
   "execution_count": 146,
   "id": "e18dd24a",
   "metadata": {},
   "outputs": [
    {
     "name": "stdout",
     "output_type": "stream",
     "text": [
      "[False False False False  True False False False False False False False\n",
      " False False False False False False]\n",
      "[False False False]\n",
      "[[False False False False False  True False False False False False False\n",
      "  False False False False False False]\n",
      " [False False False False False  True False  True False False False False\n",
      "  False False False False False False]\n",
      " [False False False False False False False False  True False False False\n",
      "  False False False False  True  True]]\n",
      "[[ True  True  True  True False False  True  True  True  True  True  True\n",
      "   True  True  True  True  True  True]\n",
      " [ True  True  True  True False False  True False  True  True  True  True\n",
      "   True  True  True  True  True  True]\n",
      " [ True  True  True  True False  True  True  True False  True  True  True\n",
      "   True  True  True  True False False]]\n"
     ]
    }
   ],
   "source": [
    "#Checks that in every column, and printing a boolean value (True/False), if ALL of the values meet the condition\n",
    "#e.g. > 50\n",
    "print(np.all(filedata > 50, axis=0))   #Only column 5 (index 4) is True as all of the values is > 50 (196, 766, 999)\n",
    "print(np.all(filedata > 50, axis=1))   #This would be for the row all value > 50 (False for all 3 rows)\n",
    "\n",
    "\n",
    "\n",
    "#Putting multiple conditions for Boolean Masking\n",
    "c = (filedata > 50) & (filedata < 100)\n",
    "print(c)\n",
    "d = (~(filedata > 50) & (filedata < 100))   #'~' means do the opposite (put True for all values that are NOT\n",
    "print(d)                                    #between 50 and 100)"
   ]
  }
 ],
 "metadata": {
  "kernelspec": {
   "display_name": "venv",
   "language": "python",
   "name": "python3"
  },
  "language_info": {
   "codemirror_mode": {
    "name": "ipython",
    "version": 3
   },
   "file_extension": ".py",
   "mimetype": "text/x-python",
   "name": "python",
   "nbconvert_exporter": "python",
   "pygments_lexer": "ipython3",
   "version": "3.10.12"
  }
 },
 "nbformat": 4,
 "nbformat_minor": 5
}
