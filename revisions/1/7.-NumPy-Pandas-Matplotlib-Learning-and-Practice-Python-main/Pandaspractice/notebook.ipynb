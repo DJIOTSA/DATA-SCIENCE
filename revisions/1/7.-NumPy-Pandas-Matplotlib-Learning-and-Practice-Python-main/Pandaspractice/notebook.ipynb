{
 "cells": [
  {
   "cell_type": "code",
   "execution_count": 20,
   "id": "04105a93",
   "metadata": {},
   "outputs": [],
   "source": [
    "import pandas as pd \n",
    "import re"
   ]
  },
  {
   "cell_type": "markdown",
   "id": "dd3a1604",
   "metadata": {},
   "source": [
    "# Pandas pratique"
   ]
  },
  {
   "cell_type": "markdown",
   "id": "4ca6b3d5",
   "metadata": {},
   "source": [
    "## 1. Excercise 1: From the given dataset print the first and last five rows"
   ]
  },
  {
   "cell_type": "code",
   "execution_count": null,
   "id": "8717ed2c",
   "metadata": {},
   "outputs": [
    {
     "name": "stdout",
     "output_type": "stream",
     "text": [
      "   index      company   body-style  wheel-base  length engine-type  \\\n",
      "0      0  alfa-romero  convertible        88.6   168.8        dohc   \n",
      "1      1  alfa-romero  convertible        88.6   168.8        dohc   \n",
      "2      2  alfa-romero    hatchback        94.5   171.2        ohcv   \n",
      "3      3         audi        sedan        99.8   176.6         ohc   \n",
      "4      4         audi        sedan        99.4   176.6         ohc   \n",
      "\n",
      "  num-of-cylinders  horsepower  average-mileage    price  \n",
      "0             four         111               21  13495.0  \n",
      "1             four         111               21  16500.0  \n",
      "2              six         154               19  16500.0  \n",
      "3             four         102               24  13950.0  \n",
      "4             five         115               18  17450.0  \n",
      "    index     company body-style  wheel-base  length engine-type  \\\n",
      "56     81  volkswagen      sedan        97.3   171.7         ohc   \n",
      "57     82  volkswagen      sedan        97.3   171.7         ohc   \n",
      "58     86  volkswagen      sedan        97.3   171.7         ohc   \n",
      "59     87       volvo      sedan       104.3   188.8         ohc   \n",
      "60     88       volvo      wagon       104.3   188.8         ohc   \n",
      "\n",
      "   num-of-cylinders  horsepower  average-mileage    price  \n",
      "56             four          85               27   7975.0  \n",
      "57             four          52               37   7995.0  \n",
      "58             four         100               26   9995.0  \n",
      "59             four         114               23  12940.0  \n",
      "60             four         114               23  13415.0  \n"
     ]
    }
   ],
   "source": [
    "# load dataset\n",
    "dataset = pd.read_csv('Automobile_data.csv')\n",
    "\n",
    "# first five rows\n",
    "print(dataset.head()) # first five rows df.head(5)\n",
    "\n",
    "# last fives rows\n",
    "print(dataset.tail()) # last five rows df.tail(5)\n"
   ]
  },
  {
   "cell_type": "markdown",
   "id": "057d1523",
   "metadata": {},
   "source": [
    "# Exercise 2: Clean the dataset and update the CSV file"
   ]
  },
  {
   "cell_type": "code",
   "execution_count": null,
   "id": "5aa53fc6",
   "metadata": {},
   "outputs": [
    {
     "name": "stdout",
     "output_type": "stream",
     "text": [
      "index               0\n",
      "company             0\n",
      "body-style          0\n",
      "wheel-base          0\n",
      "length              0\n",
      "engine-type         0\n",
      "num-of-cylinders    0\n",
      "horsepower          0\n",
      "average-mileage     0\n",
      "price               3\n",
      "dtype: int64\n"
     ]
    }
   ],
   "source": [
    "#na_values consider if the inputs for the selected rows are '?' or 'n.a.', they will be considered as \n",
    "#na values in python and will be printed as NaN\n",
    "dataset = pd.read_csv('Automobile_data.csv', na_values=['?', 'n.a.'])\n",
    "# dataset = pd.read_csv('Automobile_data.csv', na_values={\n",
    "#     'price': ['?', 'n.a.'],\n",
    "#     'stroke': ['?', 'n.a.'],\n",
    "#     'bore': ['?', 'n.a.']\n",
    "# })\n",
    "dataset.to_csv('Automobile_with_NAN_data.csv', index=False)\n",
    "print(dataset.isnull().sum()) # check how many NaN values in each column"
   ]
  },
  {
   "cell_type": "markdown",
   "id": "991a6c5a",
   "metadata": {},
   "source": [
    "## 3. Exercise 3: Find the most expensive car company name\n",
    "\n",
    "## SERIES COMMANDS          DESCRIPTION\n",
    "### Series.sum             Return the sum\n",
    "### Series.min             Return the minimum\n",
    "### Series.max             Return the maximum     \n",
    "### Series.idxmin          Return the index of the minimum\n",
    "### Series.idxmax          Return the index of the maximum\n",
    "### DataFrame.sum          Return the sum over the requested axis\n",
    "### DataFrame.min          Return the minimum over the requested axis\n",
    "### DataFrame.max          Return the maximum over the requested axis\n",
    "### DataFrame.idxmin       Return the index of the minimum over the requested axis.\n",
    "### DataFrame.idxmax       Return the index of the maximum over the requested axis."
   ]
  },
  {
   "cell_type": "code",
   "execution_count": 17,
   "id": "50797d6e",
   "metadata": {},
   "outputs": [
    {
     "name": "stdout",
     "output_type": "stream",
     "text": [
      "The most expensive car company is: mercedes-benz with a price of 45400.0\n",
      "The most expensive car company is: mercedes-benz with a price of 45400.0\n",
      "The most expensive car company is: mercedes-benz with a price of 45400.0\n"
     ]
    }
   ],
   "source": [
    "# most expensive car company name \n",
    "# Methode 1\n",
    "max_price = dataset['price'].max()\n",
    "most_expensive_car = dataset[dataset['price'] == max_price]\n",
    "company_name = most_expensive_car['company'].values[0]\n",
    "print(f\"The most expensive car company is: {company_name} with a price of {max_price}\")\n",
    "\n",
    "# Methode 2\n",
    "most_expensive_car = dataset.loc[dataset['price'].idxmax()]\n",
    "print(f\"The most expensive car company is: {most_expensive_car['company']} with a price of {most_expensive_car['price']}\")\n",
    "\n",
    "# Methode 3\n",
    "most_expensive_car = dataset.sort_values(by='price', ascending=False).iloc[0]\n",
    "company_name = most_expensive_car['company']\n",
    "max_price = most_expensive_car['price']\n",
    "print(f\"The most expensive car company is: {company_name} with a price of {max_price}\")"
   ]
  },
  {
   "cell_type": "markdown",
   "id": "93fd53a1",
   "metadata": {},
   "source": [
    "# 4. Exercise 4: Print All Toyota Cars details"
   ]
  },
  {
   "cell_type": "code",
   "execution_count": 22,
   "id": "83ad4d91",
   "metadata": {},
   "outputs": [
    {
     "name": "stdout",
     "output_type": "stream",
     "text": [
      "    index company body-style  wheel-base  length engine-type num-of-cylinders  \\\n",
      "48     66  toyota  hatchback        95.7   158.7         ohc             four   \n",
      "49     67  toyota  hatchback        95.7   158.7         ohc             four   \n",
      "50     68  toyota  hatchback        95.7   158.7         ohc             four   \n",
      "51     69  toyota      wagon        95.7   169.7         ohc             four   \n",
      "52     70  toyota      wagon        95.7   169.7         ohc             four   \n",
      "53     71  toyota      wagon        95.7   169.7         ohc             four   \n",
      "54     79  toyota      wagon       104.5   187.8        dohc              six   \n",
      "\n",
      "    horsepower  average-mileage    price  \n",
      "48          62               35   5348.0  \n",
      "49          62               31   6338.0  \n",
      "50          62               31   6488.0  \n",
      "51          62               31   6918.0  \n",
      "52          62               27   7898.0  \n",
      "53          62               27   8778.0  \n",
      "54         156               19  15750.0  \n",
      "    index company body-style  wheel-base  length engine-type num-of-cylinders  \\\n",
      "48     66  toyota  hatchback        95.7   158.7         ohc             four   \n",
      "49     67  toyota  hatchback        95.7   158.7         ohc             four   \n",
      "50     68  toyota  hatchback        95.7   158.7         ohc             four   \n",
      "51     69  toyota      wagon        95.7   169.7         ohc             four   \n",
      "52     70  toyota      wagon        95.7   169.7         ohc             four   \n",
      "53     71  toyota      wagon        95.7   169.7         ohc             four   \n",
      "54     79  toyota      wagon       104.5   187.8        dohc              six   \n",
      "\n",
      "    horsepower  average-mileage    price  \n",
      "48          62               35   5348.0  \n",
      "49          62               31   6338.0  \n",
      "50          62               31   6488.0  \n",
      "51          62               31   6918.0  \n",
      "52          62               27   7898.0  \n",
      "53          62               27   8778.0  \n",
      "54         156               19  15750.0  \n"
     ]
    }
   ],
   "source": [
    "# print all toyota cars details\n",
    "\n",
    "# Methode 1\n",
    "toyata_cars = dataset.loc[dataset['company'].str.contains('toyota', flags=re.I, regex=True)] \n",
    "print(toyata_cars)\n",
    "\n",
    "# Methode 2\n",
    "toyata_cars = dataset.groupby('company').get_group('toyota')\n",
    "print(toyata_cars)"
   ]
  },
  {
   "cell_type": "markdown",
   "id": "f5924de1",
   "metadata": {},
   "source": [
    "# 5. Exercise 5: Count total cars per company"
   ]
  },
  {
   "cell_type": "code",
   "execution_count": 27,
   "id": "9d9c0afb",
   "metadata": {},
   "outputs": [
    {
     "name": "stdout",
     "output_type": "stream",
     "text": [
      "company\n",
      "alfa-romero      3\n",
      "audi             4\n",
      "bmw              6\n",
      "chevrolet        3\n",
      "dodge            2\n",
      "honda            3\n",
      "isuzu            3\n",
      "jaguar           3\n",
      "mazda            5\n",
      "mercedes-benz    4\n",
      "mitsubishi       4\n",
      "nissan           5\n",
      "porsche          3\n",
      "toyota           7\n",
      "volkswagen       4\n",
      "volvo            2\n",
      "dtype: int64\n"
     ]
    }
   ],
   "source": [
    "# Method 1\n",
    "total_cars_per_company = dataset.groupby('company').size() # size counts the number of rows per group\n",
    "print(total_cars_per_company)"
   ]
  },
  {
   "cell_type": "code",
   "execution_count": null,
   "id": "8bb7b62d",
   "metadata": {},
   "outputs": [
    {
     "name": "stdout",
     "output_type": "stream",
     "text": [
      "company\n",
      "toyota           7\n",
      "bmw              6\n",
      "mazda            5\n",
      "nissan           5\n",
      "audi             4\n",
      "mercedes-benz    4\n",
      "mitsubishi       4\n",
      "volkswagen       4\n",
      "alfa-romero      3\n",
      "chevrolet        3\n",
      "honda            3\n",
      "isuzu            3\n",
      "jaguar           3\n",
      "porsche          3\n",
      "dodge            2\n",
      "volvo            2\n",
      "Name: count, dtype: int64\n"
     ]
    }
   ],
   "source": [
    "# Method 2\n",
    "# value_counts counts the number of occurrences of each unique value in a column\n",
    "print(dataset['company'].value_counts()) "
   ]
  },
  {
   "cell_type": "code",
   "execution_count": 31,
   "id": "d1ea52b9",
   "metadata": {},
   "outputs": [
    {
     "name": "stdout",
     "output_type": "stream",
     "text": [
      "company\n",
      "alfa-romero      3\n",
      "audi             4\n",
      "bmw              6\n",
      "chevrolet        3\n",
      "dodge            2\n",
      "honda            3\n",
      "isuzu            1\n",
      "jaguar           3\n",
      "mazda            5\n",
      "mercedes-benz    4\n",
      "mitsubishi       4\n",
      "nissan           5\n",
      "porsche          2\n",
      "toyota           7\n",
      "volkswagen       4\n",
      "volvo            2\n",
      "Name: price, dtype: int64\n"
     ]
    }
   ],
   "source": [
    "#  Method 3 use count but i don't recomend it\n",
    "total_cars_per_company = dataset.groupby('company').count()['price'] # size counts the number of rows per group\n",
    "print(total_cars_per_company)"
   ]
  },
  {
   "cell_type": "markdown",
   "id": "c9f83e82",
   "metadata": {},
   "source": [
    "# 6. Exercise 6: Find each company’s highest price car"
   ]
  },
  {
   "cell_type": "code",
   "execution_count": 36,
   "id": "73388cd4",
   "metadata": {},
   "outputs": [
    {
     "data": {
      "application/vnd.microsoft.datawrangler.viewer.v0+json": {
       "columns": [
        {
         "name": "company",
         "rawType": "object",
         "type": "string"
        },
        {
         "name": "price",
         "rawType": "float64",
         "type": "float"
        }
       ],
       "ref": "63e0b722-5fa4-41cf-8ff6-374620873388",
       "rows": [
        [
         "alfa-romero",
         "16500.0"
        ],
        [
         "audi",
         "18920.0"
        ],
        [
         "bmw",
         "41315.0"
        ],
        [
         "chevrolet",
         "6575.0"
        ],
        [
         "dodge",
         "6377.0"
        ],
        [
         "honda",
         "12945.0"
        ],
        [
         "isuzu",
         "6785.0"
        ],
        [
         "jaguar",
         "36000.0"
        ],
        [
         "mazda",
         "18344.0"
        ],
        [
         "mercedes-benz",
         "45400.0"
        ],
        [
         "mitsubishi",
         "8189.0"
        ],
        [
         "nissan",
         "13499.0"
        ],
        [
         "porsche",
         "37028.0"
        ],
        [
         "toyota",
         "15750.0"
        ],
        [
         "volkswagen",
         "9995.0"
        ],
        [
         "volvo",
         "13415.0"
        ]
       ],
       "shape": {
        "columns": 1,
        "rows": 16
       }
      },
      "text/plain": [
       "company\n",
       "alfa-romero      16500.0\n",
       "audi             18920.0\n",
       "bmw              41315.0\n",
       "chevrolet         6575.0\n",
       "dodge             6377.0\n",
       "honda            12945.0\n",
       "isuzu             6785.0\n",
       "jaguar           36000.0\n",
       "mazda            18344.0\n",
       "mercedes-benz    45400.0\n",
       "mitsubishi        8189.0\n",
       "nissan           13499.0\n",
       "porsche          37028.0\n",
       "toyota           15750.0\n",
       "volkswagen        9995.0\n",
       "volvo            13415.0\n",
       "Name: price, dtype: float64"
      ]
     },
     "execution_count": 36,
     "metadata": {},
     "output_type": "execute_result"
    }
   ],
   "source": [
    "companies_highest_price_car = dataset.groupby(['company',])['price'].max()\n",
    "# or\n",
    "# companies_highest_price_car = dataset.groupby(['company',]).max()['price']\n",
    "companies_highest_price_car"
   ]
  },
  {
   "cell_type": "markdown",
   "id": "375b811f",
   "metadata": {},
   "source": [
    "# 7. Exercise 7: Find the average mileage of each car making company"
   ]
  },
  {
   "cell_type": "code",
   "execution_count": 39,
   "id": "8dcaa374",
   "metadata": {},
   "outputs": [
    {
     "name": "stdout",
     "output_type": "stream",
     "text": [
      "   index      company   body-style  wheel-base  length engine-type  \\\n",
      "0      0  alfa-romero  convertible        88.6   168.8        dohc   \n",
      "1      1  alfa-romero  convertible        88.6   168.8        dohc   \n",
      "\n",
      "  num-of-cylinders  horsepower  average-mileage    price  \n",
      "0             four         111               21  13495.0  \n",
      "1             four         111               21  16500.0  \n"
     ]
    },
    {
     "data": {
      "application/vnd.microsoft.datawrangler.viewer.v0+json": {
       "columns": [
        {
         "name": "company",
         "rawType": "object",
         "type": "string"
        },
        {
         "name": "average-mileage",
         "rawType": "float64",
         "type": "float"
        }
       ],
       "ref": "4953ee1b-988f-4337-8b9a-7ef99ea30c21",
       "rows": [
        [
         "alfa-romero",
         "20.333333333333332"
        ],
        [
         "audi",
         "20.0"
        ],
        [
         "bmw",
         "19.0"
        ],
        [
         "chevrolet",
         "41.0"
        ],
        [
         "dodge",
         "31.0"
        ],
        [
         "honda",
         "26.333333333333332"
        ],
        [
         "isuzu",
         "33.333333333333336"
        ],
        [
         "jaguar",
         "14.333333333333334"
        ],
        [
         "mazda",
         "28.0"
        ],
        [
         "mercedes-benz",
         "18.0"
        ],
        [
         "mitsubishi",
         "29.5"
        ],
        [
         "nissan",
         "31.4"
        ],
        [
         "porsche",
         "17.0"
        ],
        [
         "toyota",
         "28.714285714285715"
        ],
        [
         "volkswagen",
         "31.75"
        ],
        [
         "volvo",
         "23.0"
        ]
       ],
       "shape": {
        "columns": 1,
        "rows": 16
       }
      },
      "text/plain": [
       "company\n",
       "alfa-romero      20.333333\n",
       "audi             20.000000\n",
       "bmw              19.000000\n",
       "chevrolet        41.000000\n",
       "dodge            31.000000\n",
       "honda            26.333333\n",
       "isuzu            33.333333\n",
       "jaguar           14.333333\n",
       "mazda            28.000000\n",
       "mercedes-benz    18.000000\n",
       "mitsubishi       29.500000\n",
       "nissan           31.400000\n",
       "porsche          17.000000\n",
       "toyota           28.714286\n",
       "volkswagen       31.750000\n",
       "volvo            23.000000\n",
       "Name: average-mileage, dtype: float64"
      ]
     },
     "execution_count": 39,
     "metadata": {},
     "output_type": "execute_result"
    }
   ],
   "source": [
    "print(dataset.head(2))\n",
    "avr = dataset.groupby(['company']).mean(numeric_only=True)['average-mileage']\n",
    "avr"
   ]
  },
  {
   "cell_type": "markdown",
   "id": "3aed79ad",
   "metadata": {},
   "source": [
    "# 8. Exercise 8: Sort all cars by Price column"
   ]
  },
  {
   "cell_type": "code",
   "execution_count": 41,
   "id": "58ae628b",
   "metadata": {},
   "outputs": [
    {
     "data": {
      "application/vnd.microsoft.datawrangler.viewer.v0+json": {
       "columns": [
        {
         "name": "index",
         "rawType": "int64",
         "type": "integer"
        },
        {
         "name": "index",
         "rawType": "int64",
         "type": "integer"
        },
        {
         "name": "company",
         "rawType": "object",
         "type": "string"
        },
        {
         "name": "body-style",
         "rawType": "object",
         "type": "string"
        },
        {
         "name": "wheel-base",
         "rawType": "float64",
         "type": "float"
        },
        {
         "name": "length",
         "rawType": "float64",
         "type": "float"
        },
        {
         "name": "engine-type",
         "rawType": "object",
         "type": "string"
        },
        {
         "name": "num-of-cylinders",
         "rawType": "object",
         "type": "string"
        },
        {
         "name": "horsepower",
         "rawType": "int64",
         "type": "integer"
        },
        {
         "name": "average-mileage",
         "rawType": "int64",
         "type": "integer"
        },
        {
         "name": "price",
         "rawType": "float64",
         "type": "float"
        }
       ],
       "ref": "ef950eac-c967-4dd5-820e-fb7735657498",
       "rows": [
        [
         "35",
         "47",
         "mercedes-benz",
         "hardtop",
         "112.0",
         "199.2",
         "ohcv",
         "eight",
         "184",
         "14",
         "45400.0"
        ],
        [
         "11",
         "14",
         "bmw",
         "sedan",
         "103.5",
         "193.8",
         "ohc",
         "six",
         "182",
         "16",
         "41315.0"
        ],
        [
         "34",
         "46",
         "mercedes-benz",
         "sedan",
         "120.9",
         "208.1",
         "ohcv",
         "eight",
         "184",
         "14",
         "40960.0"
        ],
        [
         "46",
         "62",
         "porsche",
         "convertible",
         "89.5",
         "168.9",
         "ohcf",
         "six",
         "207",
         "17",
         "37028.0"
        ],
        [
         "12",
         "15",
         "bmw",
         "sedan",
         "110.0",
         "197.0",
         "ohc",
         "six",
         "182",
         "15",
         "36880.0"
        ],
        [
         "26",
         "35",
         "jaguar",
         "sedan",
         "102.0",
         "191.7",
         "ohcv",
         "twelve",
         "262",
         "13",
         "36000.0"
        ],
        [
         "25",
         "34",
         "jaguar",
         "sedan",
         "113.0",
         "199.6",
         "dohc",
         "six",
         "176",
         "15",
         "35550.0"
        ],
        [
         "45",
         "61",
         "porsche",
         "hardtop",
         "89.5",
         "168.9",
         "ohcf",
         "six",
         "207",
         "17",
         "34028.0"
        ],
        [
         "24",
         "33",
         "jaguar",
         "sedan",
         "113.0",
         "199.6",
         "dohc",
         "six",
         "176",
         "15",
         "32250.0"
        ],
        [
         "10",
         "13",
         "bmw",
         "sedan",
         "103.5",
         "189.0",
         "ohc",
         "six",
         "182",
         "16",
         "30760.0"
        ],
        [
         "33",
         "45",
         "mercedes-benz",
         "wagon",
         "110.0",
         "190.9",
         "ohc",
         "five",
         "123",
         "22",
         "28248.0"
        ],
        [
         "32",
         "44",
         "mercedes-benz",
         "sedan",
         "110.0",
         "190.9",
         "ohc",
         "five",
         "123",
         "22",
         "25552.0"
        ],
        [
         "9",
         "11",
         "bmw",
         "sedan",
         "101.2",
         "176.8",
         "ohc",
         "six",
         "121",
         "21",
         "20970.0"
        ],
        [
         "6",
         "6",
         "audi",
         "wagon",
         "105.8",
         "192.7",
         "ohc",
         "five",
         "110",
         "19",
         "18920.0"
        ],
        [
         "31",
         "43",
         "mazda",
         "sedan",
         "104.9",
         "175.0",
         "ohc",
         "four",
         "72",
         "31",
         "18344.0"
        ],
        [
         "4",
         "4",
         "audi",
         "sedan",
         "99.4",
         "176.6",
         "ohc",
         "five",
         "115",
         "18",
         "17450.0"
        ],
        [
         "8",
         "10",
         "bmw",
         "sedan",
         "101.2",
         "176.8",
         "ohc",
         "four",
         "101",
         "23",
         "16925.0"
        ],
        [
         "2",
         "2",
         "alfa-romero",
         "hatchback",
         "94.5",
         "171.2",
         "ohcv",
         "six",
         "154",
         "19",
         "16500.0"
        ],
        [
         "1",
         "1",
         "alfa-romero",
         "convertible",
         "88.6",
         "168.8",
         "dohc",
         "four",
         "111",
         "21",
         "16500.0"
        ],
        [
         "7",
         "9",
         "bmw",
         "sedan",
         "101.2",
         "176.8",
         "ohc",
         "four",
         "101",
         "23",
         "16430.0"
        ],
        [
         "54",
         "79",
         "toyota",
         "wagon",
         "104.5",
         "187.8",
         "dohc",
         "six",
         "156",
         "19",
         "15750.0"
        ],
        [
         "5",
         "5",
         "audi",
         "sedan",
         "99.8",
         "177.3",
         "ohc",
         "five",
         "110",
         "19",
         "15250.0"
        ],
        [
         "3",
         "3",
         "audi",
         "sedan",
         "99.8",
         "176.6",
         "ohc",
         "four",
         "102",
         "24",
         "13950.0"
        ],
        [
         "44",
         "57",
         "nissan",
         "sedan",
         "100.4",
         "184.6",
         "ohcv",
         "six",
         "152",
         "19",
         "13499.0"
        ],
        [
         "0",
         "0",
         "alfa-romero",
         "convertible",
         "88.6",
         "168.8",
         "dohc",
         "four",
         "111",
         "21",
         "13495.0"
        ],
        [
         "60",
         "88",
         "volvo",
         "wagon",
         "104.3",
         "188.8",
         "ohc",
         "four",
         "114",
         "23",
         "13415.0"
        ],
        [
         "19",
         "28",
         "honda",
         "sedan",
         "96.5",
         "175.4",
         "ohc",
         "four",
         "101",
         "24",
         "12945.0"
        ],
        [
         "59",
         "87",
         "volvo",
         "sedan",
         "104.3",
         "188.8",
         "ohc",
         "four",
         "114",
         "23",
         "12940.0"
        ],
        [
         "30",
         "39",
         "mazda",
         "hatchback",
         "95.3",
         "169.0",
         "rotor",
         "two",
         "101",
         "17",
         "11845.0"
        ],
        [
         "20",
         "29",
         "honda",
         "sedan",
         "96.5",
         "169.1",
         "ohc",
         "four",
         "100",
         "25",
         "10345.0"
        ],
        [
         "58",
         "86",
         "volkswagen",
         "sedan",
         "97.3",
         "171.7",
         "ohc",
         "four",
         "100",
         "26",
         "9995.0"
        ],
        [
         "53",
         "71",
         "toyota",
         "wagon",
         "95.7",
         "169.7",
         "ohc",
         "four",
         "62",
         "27",
         "8778.0"
        ],
        [
         "39",
         "52",
         "mitsubishi",
         "sedan",
         "96.3",
         "172.4",
         "ohc",
         "four",
         "88",
         "25",
         "8189.0"
        ],
        [
         "57",
         "82",
         "volkswagen",
         "sedan",
         "97.3",
         "171.7",
         "ohc",
         "four",
         "52",
         "37",
         "7995.0"
        ],
        [
         "56",
         "81",
         "volkswagen",
         "sedan",
         "97.3",
         "171.7",
         "ohc",
         "four",
         "85",
         "27",
         "7975.0"
        ],
        [
         "52",
         "70",
         "toyota",
         "wagon",
         "95.7",
         "169.7",
         "ohc",
         "four",
         "62",
         "27",
         "7898.0"
        ],
        [
         "55",
         "80",
         "volkswagen",
         "sedan",
         "97.3",
         "171.7",
         "ohc",
         "four",
         "52",
         "37",
         "7775.0"
        ],
        [
         "43",
         "56",
         "nissan",
         "wagon",
         "94.5",
         "170.2",
         "ohc",
         "four",
         "69",
         "31",
         "7349.0"
        ],
        [
         "18",
         "27",
         "honda",
         "wagon",
         "96.5",
         "157.1",
         "ohc",
         "four",
         "76",
         "30",
         "7295.0"
        ],
        [
         "40",
         "53",
         "nissan",
         "sedan",
         "94.5",
         "165.3",
         "ohc",
         "four",
         "55",
         "45",
         "7099.0"
        ],
        [
         "38",
         "51",
         "mitsubishi",
         "sedan",
         "96.3",
         "172.4",
         "ohc",
         "four",
         "88",
         "25",
         "6989.0"
        ],
        [
         "51",
         "69",
         "toyota",
         "wagon",
         "95.7",
         "169.7",
         "ohc",
         "four",
         "62",
         "31",
         "6918.0"
        ],
        [
         "42",
         "55",
         "nissan",
         "sedan",
         "94.5",
         "165.3",
         "ohc",
         "four",
         "69",
         "31",
         "6849.0"
        ],
        [
         "29",
         "38",
         "mazda",
         "hatchback",
         "93.1",
         "159.1",
         "ohc",
         "four",
         "68",
         "31",
         "6795.0"
        ],
        [
         "21",
         "30",
         "isuzu",
         "sedan",
         "94.3",
         "170.7",
         "ohc",
         "four",
         "78",
         "24",
         "6785.0"
        ],
        [
         "41",
         "54",
         "nissan",
         "sedan",
         "94.5",
         "165.3",
         "ohc",
         "four",
         "69",
         "31",
         "6649.0"
        ],
        [
         "15",
         "18",
         "chevrolet",
         "sedan",
         "94.5",
         "158.8",
         "ohc",
         "four",
         "70",
         "38",
         "6575.0"
        ],
        [
         "50",
         "68",
         "toyota",
         "hatchback",
         "95.7",
         "158.7",
         "ohc",
         "four",
         "62",
         "31",
         "6488.0"
        ],
        [
         "16",
         "19",
         "dodge",
         "hatchback",
         "93.7",
         "157.3",
         "ohc",
         "four",
         "68",
         "31",
         "6377.0"
        ],
        [
         "49",
         "67",
         "toyota",
         "hatchback",
         "95.7",
         "158.7",
         "ohc",
         "four",
         "62",
         "31",
         "6338.0"
        ]
       ],
       "shape": {
        "columns": 10,
        "rows": 61
       }
      },
      "text/html": [
       "<div>\n",
       "<style scoped>\n",
       "    .dataframe tbody tr th:only-of-type {\n",
       "        vertical-align: middle;\n",
       "    }\n",
       "\n",
       "    .dataframe tbody tr th {\n",
       "        vertical-align: top;\n",
       "    }\n",
       "\n",
       "    .dataframe thead th {\n",
       "        text-align: right;\n",
       "    }\n",
       "</style>\n",
       "<table border=\"1\" class=\"dataframe\">\n",
       "  <thead>\n",
       "    <tr style=\"text-align: right;\">\n",
       "      <th></th>\n",
       "      <th>index</th>\n",
       "      <th>company</th>\n",
       "      <th>body-style</th>\n",
       "      <th>wheel-base</th>\n",
       "      <th>length</th>\n",
       "      <th>engine-type</th>\n",
       "      <th>num-of-cylinders</th>\n",
       "      <th>horsepower</th>\n",
       "      <th>average-mileage</th>\n",
       "      <th>price</th>\n",
       "    </tr>\n",
       "  </thead>\n",
       "  <tbody>\n",
       "    <tr>\n",
       "      <th>35</th>\n",
       "      <td>47</td>\n",
       "      <td>mercedes-benz</td>\n",
       "      <td>hardtop</td>\n",
       "      <td>112.0</td>\n",
       "      <td>199.2</td>\n",
       "      <td>ohcv</td>\n",
       "      <td>eight</td>\n",
       "      <td>184</td>\n",
       "      <td>14</td>\n",
       "      <td>45400.0</td>\n",
       "    </tr>\n",
       "    <tr>\n",
       "      <th>11</th>\n",
       "      <td>14</td>\n",
       "      <td>bmw</td>\n",
       "      <td>sedan</td>\n",
       "      <td>103.5</td>\n",
       "      <td>193.8</td>\n",
       "      <td>ohc</td>\n",
       "      <td>six</td>\n",
       "      <td>182</td>\n",
       "      <td>16</td>\n",
       "      <td>41315.0</td>\n",
       "    </tr>\n",
       "    <tr>\n",
       "      <th>34</th>\n",
       "      <td>46</td>\n",
       "      <td>mercedes-benz</td>\n",
       "      <td>sedan</td>\n",
       "      <td>120.9</td>\n",
       "      <td>208.1</td>\n",
       "      <td>ohcv</td>\n",
       "      <td>eight</td>\n",
       "      <td>184</td>\n",
       "      <td>14</td>\n",
       "      <td>40960.0</td>\n",
       "    </tr>\n",
       "    <tr>\n",
       "      <th>46</th>\n",
       "      <td>62</td>\n",
       "      <td>porsche</td>\n",
       "      <td>convertible</td>\n",
       "      <td>89.5</td>\n",
       "      <td>168.9</td>\n",
       "      <td>ohcf</td>\n",
       "      <td>six</td>\n",
       "      <td>207</td>\n",
       "      <td>17</td>\n",
       "      <td>37028.0</td>\n",
       "    </tr>\n",
       "    <tr>\n",
       "      <th>12</th>\n",
       "      <td>15</td>\n",
       "      <td>bmw</td>\n",
       "      <td>sedan</td>\n",
       "      <td>110.0</td>\n",
       "      <td>197.0</td>\n",
       "      <td>ohc</td>\n",
       "      <td>six</td>\n",
       "      <td>182</td>\n",
       "      <td>15</td>\n",
       "      <td>36880.0</td>\n",
       "    </tr>\n",
       "    <tr>\n",
       "      <th>...</th>\n",
       "      <td>...</td>\n",
       "      <td>...</td>\n",
       "      <td>...</td>\n",
       "      <td>...</td>\n",
       "      <td>...</td>\n",
       "      <td>...</td>\n",
       "      <td>...</td>\n",
       "      <td>...</td>\n",
       "      <td>...</td>\n",
       "      <td>...</td>\n",
       "    </tr>\n",
       "    <tr>\n",
       "      <th>27</th>\n",
       "      <td>36</td>\n",
       "      <td>mazda</td>\n",
       "      <td>hatchback</td>\n",
       "      <td>93.1</td>\n",
       "      <td>159.1</td>\n",
       "      <td>ohc</td>\n",
       "      <td>four</td>\n",
       "      <td>68</td>\n",
       "      <td>30</td>\n",
       "      <td>5195.0</td>\n",
       "    </tr>\n",
       "    <tr>\n",
       "      <th>13</th>\n",
       "      <td>16</td>\n",
       "      <td>chevrolet</td>\n",
       "      <td>hatchback</td>\n",
       "      <td>88.4</td>\n",
       "      <td>141.1</td>\n",
       "      <td>l</td>\n",
       "      <td>three</td>\n",
       "      <td>48</td>\n",
       "      <td>47</td>\n",
       "      <td>5151.0</td>\n",
       "    </tr>\n",
       "    <tr>\n",
       "      <th>22</th>\n",
       "      <td>31</td>\n",
       "      <td>isuzu</td>\n",
       "      <td>sedan</td>\n",
       "      <td>94.5</td>\n",
       "      <td>155.9</td>\n",
       "      <td>ohc</td>\n",
       "      <td>four</td>\n",
       "      <td>70</td>\n",
       "      <td>38</td>\n",
       "      <td>NaN</td>\n",
       "    </tr>\n",
       "    <tr>\n",
       "      <th>23</th>\n",
       "      <td>32</td>\n",
       "      <td>isuzu</td>\n",
       "      <td>sedan</td>\n",
       "      <td>94.5</td>\n",
       "      <td>155.9</td>\n",
       "      <td>ohc</td>\n",
       "      <td>four</td>\n",
       "      <td>70</td>\n",
       "      <td>38</td>\n",
       "      <td>NaN</td>\n",
       "    </tr>\n",
       "    <tr>\n",
       "      <th>47</th>\n",
       "      <td>63</td>\n",
       "      <td>porsche</td>\n",
       "      <td>hatchback</td>\n",
       "      <td>98.4</td>\n",
       "      <td>175.7</td>\n",
       "      <td>dohcv</td>\n",
       "      <td>eight</td>\n",
       "      <td>288</td>\n",
       "      <td>17</td>\n",
       "      <td>NaN</td>\n",
       "    </tr>\n",
       "  </tbody>\n",
       "</table>\n",
       "<p>61 rows × 10 columns</p>\n",
       "</div>"
      ],
      "text/plain": [
       "    index        company   body-style  wheel-base  length engine-type  \\\n",
       "35     47  mercedes-benz      hardtop       112.0   199.2        ohcv   \n",
       "11     14            bmw        sedan       103.5   193.8         ohc   \n",
       "34     46  mercedes-benz        sedan       120.9   208.1        ohcv   \n",
       "46     62        porsche  convertible        89.5   168.9        ohcf   \n",
       "12     15            bmw        sedan       110.0   197.0         ohc   \n",
       "..    ...            ...          ...         ...     ...         ...   \n",
       "27     36          mazda    hatchback        93.1   159.1         ohc   \n",
       "13     16      chevrolet    hatchback        88.4   141.1           l   \n",
       "22     31          isuzu        sedan        94.5   155.9         ohc   \n",
       "23     32          isuzu        sedan        94.5   155.9         ohc   \n",
       "47     63        porsche    hatchback        98.4   175.7       dohcv   \n",
       "\n",
       "   num-of-cylinders  horsepower  average-mileage    price  \n",
       "35            eight         184               14  45400.0  \n",
       "11              six         182               16  41315.0  \n",
       "34            eight         184               14  40960.0  \n",
       "46              six         207               17  37028.0  \n",
       "12              six         182               15  36880.0  \n",
       "..              ...         ...              ...      ...  \n",
       "27             four          68               30   5195.0  \n",
       "13            three          48               47   5151.0  \n",
       "22             four          70               38      NaN  \n",
       "23             four          70               38      NaN  \n",
       "47            eight         288               17      NaN  \n",
       "\n",
       "[61 rows x 10 columns]"
      ]
     },
     "execution_count": 41,
     "metadata": {},
     "output_type": "execute_result"
    }
   ],
   "source": [
    "sorted = dataset.sort_values(by='price', ascending=False) # descending\n",
    "sorted"
   ]
  },
  {
   "cell_type": "markdown",
   "id": "ee32210d",
   "metadata": {},
   "source": [
    "# 9. Exercise 9: Concatenate two data frames using the following conditions (see below)"
   ]
  },
  {
   "cell_type": "code",
   "execution_count": 47,
   "id": "cee8bea4",
   "metadata": {},
   "outputs": [
    {
     "name": "stdout",
     "output_type": "stream",
     "text": [
      "                Company   Price\n",
      "German   0         Ford   23845\n",
      "         1     Mercedes  171995\n",
      "         2          BMV  135925\n",
      "         3         Audi   71400\n",
      "Japanese 0       Toyota   29995\n",
      "         1        Honda   23600\n",
      "         2       Nissan   61500\n",
      "         3  Mitsubishi    58900\n",
      "-------------\n",
      "     German             Japanese       \n",
      "    Company   Price      Company  Price\n",
      "0      Ford   23845       Toyota  29995\n",
      "1  Mercedes  171995        Honda  23600\n",
      "2       BMV  135925       Nissan  61500\n",
      "3      Audi   71400  Mitsubishi   58900\n",
      "-------------\n",
      "       Company   Price\n",
      "0         Ford   23845\n",
      "1     Mercedes  171995\n",
      "2          BMV  135925\n",
      "3         Audi   71400\n",
      "0       Toyota   29995\n",
      "1        Honda   23600\n",
      "2       Nissan   61500\n",
      "3  Mitsubishi    58900\n"
     ]
    }
   ],
   "source": [
    "GermanCars = {'Company': ['Ford', 'Mercedes', 'BMV', 'Audi'], 'Price': [23845, 171995, 135925 , 71400]}\n",
    "japaneseCars = {'Company': ['Toyota', 'Honda', 'Nissan', 'Mitsubishi '], 'Price': [29995, 23600, 61500 , 58900]}\n",
    "\n",
    "# create two dataframe named df1 and df2\n",
    "df1 = pd.DataFrame.from_dict(GermanCars)\n",
    "df2 = pd.DataFrame.from_dict(japaneseCars)\n",
    "\n",
    "# concatenate the two dataframe\n",
    "dfx1 = pd.concat([df1,df2], keys=['German','Japanese'], axis=0)\n",
    "print(dfx1)\n",
    "print('-------------')\n",
    "\n",
    "dfx2 = pd.concat([df1,df2], keys=['German','Japanese'], axis=1)\n",
    "print(dfx2)\n",
    "print('-------------')\n",
    "\n",
    "dfx3 = pd.concat([df1,df2])\n",
    "print(dfx3)"
   ]
  },
  {
   "cell_type": "markdown",
   "id": "6f22c6dc",
   "metadata": {},
   "source": [
    "# 10. Exercise 10: Merge two data frames using the following condition (see below)\n",
    "\n",
    "Create two data frames using the following two Dicts,\n",
    "\n",
    "Merge two data frames, and append the second data frame as a new column to the first data frame."
   ]
  },
  {
   "cell_type": "code",
   "execution_count": 50,
   "id": "8f3fc6a9",
   "metadata": {},
   "outputs": [
    {
     "name": "stdout",
     "output_type": "stream",
     "text": [
      "  Company   Price  Horsepower\n",
      "0  Toyota   23845         141\n",
      "1   Honda   17995          80\n",
      "2     BMV  135925         182\n",
      "3    Audi   71400         160\n",
      "-------\n"
     ]
    },
    {
     "data": {
      "application/vnd.microsoft.datawrangler.viewer.v0+json": {
       "columns": [
        {
         "name": "index",
         "rawType": "int64",
         "type": "integer"
        },
        {
         "name": "Company",
         "rawType": "object",
         "type": "string"
        },
        {
         "name": "Price",
         "rawType": "int64",
         "type": "integer"
        },
        {
         "name": "Horsepower",
         "rawType": "int64",
         "type": "integer"
        },
        {
         "name": "horsepower",
         "rawType": "int64",
         "type": "integer"
        }
       ],
       "ref": "0a34a62c-8d15-46e9-b457-8442346fffeb",
       "rows": [
        [
         "0",
         "Toyota",
         "23845",
         "141",
         "141"
        ],
        [
         "1",
         "Honda",
         "17995",
         "80",
         "80"
        ],
        [
         "2",
         "BMV",
         "135925",
         "182",
         "182"
        ],
        [
         "3",
         "Audi",
         "71400",
         "160",
         "160"
        ]
       ],
       "shape": {
        "columns": 4,
        "rows": 4
       }
      },
      "text/html": [
       "<div>\n",
       "<style scoped>\n",
       "    .dataframe tbody tr th:only-of-type {\n",
       "        vertical-align: middle;\n",
       "    }\n",
       "\n",
       "    .dataframe tbody tr th {\n",
       "        vertical-align: top;\n",
       "    }\n",
       "\n",
       "    .dataframe thead th {\n",
       "        text-align: right;\n",
       "    }\n",
       "</style>\n",
       "<table border=\"1\" class=\"dataframe\">\n",
       "  <thead>\n",
       "    <tr style=\"text-align: right;\">\n",
       "      <th></th>\n",
       "      <th>Company</th>\n",
       "      <th>Price</th>\n",
       "      <th>Horsepower</th>\n",
       "      <th>horsepower</th>\n",
       "    </tr>\n",
       "  </thead>\n",
       "  <tbody>\n",
       "    <tr>\n",
       "      <th>0</th>\n",
       "      <td>Toyota</td>\n",
       "      <td>23845</td>\n",
       "      <td>141</td>\n",
       "      <td>141</td>\n",
       "    </tr>\n",
       "    <tr>\n",
       "      <th>1</th>\n",
       "      <td>Honda</td>\n",
       "      <td>17995</td>\n",
       "      <td>80</td>\n",
       "      <td>80</td>\n",
       "    </tr>\n",
       "    <tr>\n",
       "      <th>2</th>\n",
       "      <td>BMV</td>\n",
       "      <td>135925</td>\n",
       "      <td>182</td>\n",
       "      <td>182</td>\n",
       "    </tr>\n",
       "    <tr>\n",
       "      <th>3</th>\n",
       "      <td>Audi</td>\n",
       "      <td>71400</td>\n",
       "      <td>160</td>\n",
       "      <td>160</td>\n",
       "    </tr>\n",
       "  </tbody>\n",
       "</table>\n",
       "</div>"
      ],
      "text/plain": [
       "  Company   Price  Horsepower  horsepower\n",
       "0  Toyota   23845         141         141\n",
       "1   Honda   17995          80          80\n",
       "2     BMV  135925         182         182\n",
       "3    Audi   71400         160         160"
      ]
     },
     "execution_count": 50,
     "metadata": {},
     "output_type": "execute_result"
    }
   ],
   "source": [
    "Car_Price = {'Company': ['Toyota', 'Honda', 'BMV', 'Audi'], 'Price': [23845, 17995, 135925 , 71400]}\n",
    "car_Horsepower = {'Company': ['Toyota', 'Honda', 'BMV', 'Audi'], 'horsepower': [141, 80, 182 , 160]}\n",
    "\n",
    "df1 = pd.DataFrame.from_dict(Car_Price)\n",
    "df2 = pd.DataFrame.from_dict(car_Horsepower)\n",
    "\n",
    "# method 1\n",
    "df1['Horsepower'] = df2['horsepower']\n",
    "print(df1)\n",
    "print('-------')\n",
    "\n",
    "# method 2\n",
    "df1.merge(df2, on='Company')"
   ]
  },
  {
   "cell_type": "code",
   "execution_count": null,
   "id": "a80083aa",
   "metadata": {},
   "outputs": [],
   "source": []
  }
 ],
 "metadata": {
  "kernelspec": {
   "display_name": "venv",
   "language": "python",
   "name": "python3"
  },
  "language_info": {
   "codemirror_mode": {
    "name": "ipython",
    "version": 3
   },
   "file_extension": ".py",
   "mimetype": "text/x-python",
   "name": "python",
   "nbconvert_exporter": "python",
   "pygments_lexer": "ipython3",
   "version": "3.10.12"
  }
 },
 "nbformat": 4,
 "nbformat_minor": 5
}
