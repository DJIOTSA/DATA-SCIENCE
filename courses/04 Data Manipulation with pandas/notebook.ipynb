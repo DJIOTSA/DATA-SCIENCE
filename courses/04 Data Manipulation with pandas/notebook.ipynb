{
 "cells": [
  {
   "cell_type": "code",
   "execution_count": 2,
   "id": "62f753df",
   "metadata": {},
   "outputs": [],
   "source": [
    "import pickle\n",
    "import pandas as pd"
   ]
  },
  {
   "cell_type": "code",
   "execution_count": 3,
   "id": "b1e577f4",
   "metadata": {},
   "outputs": [
    {
     "data": {
      "application/vnd.microsoft.datawrangler.viewer.v0+json": {
       "columns": [
        {
         "name": "index",
         "rawType": "int64",
         "type": "integer"
        },
        {
         "name": "date",
         "rawType": "object",
         "type": "string"
        },
        {
         "name": "type",
         "rawType": "object",
         "type": "string"
        },
        {
         "name": "year",
         "rawType": "int64",
         "type": "integer"
        },
        {
         "name": "avg_price",
         "rawType": "float64",
         "type": "float"
        },
        {
         "name": "size",
         "rawType": "object",
         "type": "string"
        },
        {
         "name": "nb_sold",
         "rawType": "float64",
         "type": "float"
        }
       ],
       "ref": "ea8367b3-a389-448a-aaee-f5a6ec40d67a",
       "rows": [
        [
         "0",
         "2015-12-27",
         "conventional",
         "2015",
         "0.95",
         "small",
         "9626901.09"
        ],
        [
         "1",
         "2015-12-20",
         "conventional",
         "2015",
         "0.98",
         "small",
         "8710021.76"
        ],
        [
         "2",
         "2015-12-13",
         "conventional",
         "2015",
         "0.93",
         "small",
         "9855053.66"
        ],
        [
         "3",
         "2015-12-06",
         "conventional",
         "2015",
         "0.89",
         "small",
         "9405464.36"
        ],
        [
         "4",
         "2015-11-29",
         "conventional",
         "2015",
         "0.99",
         "small",
         "8094803.56"
        ],
        [
         "5",
         "2015-11-22",
         "conventional",
         "2015",
         "0.96",
         "small",
         "8571849.8"
        ],
        [
         "6",
         "2015-11-15",
         "conventional",
         "2015",
         "0.92",
         "small",
         "9907981.27"
        ],
        [
         "7",
         "2015-11-08",
         "conventional",
         "2015",
         "0.97",
         "small",
         "9991330.31"
        ],
        [
         "8",
         "2015-11-01",
         "conventional",
         "2015",
         "0.97",
         "small",
         "10138703.85"
        ],
        [
         "9",
         "2015-10-25",
         "conventional",
         "2015",
         "1.04",
         "small",
         "8683958.8"
        ],
        [
         "10",
         "2015-10-18",
         "conventional",
         "2015",
         "0.99",
         "small",
         "9162094.14"
        ],
        [
         "11",
         "2015-10-11",
         "conventional",
         "2015",
         "1.0",
         "small",
         "8828340.53"
        ],
        [
         "12",
         "2015-10-04",
         "conventional",
         "2015",
         "1.02",
         "small",
         "8353619.97"
        ],
        [
         "13",
         "2015-09-27",
         "conventional",
         "2015",
         "1.03",
         "small",
         "8454208.8"
        ],
        [
         "14",
         "2015-09-20",
         "conventional",
         "2015",
         "1.02",
         "small",
         "9422275.27"
        ],
        [
         "15",
         "2015-09-13",
         "conventional",
         "2015",
         "1.03",
         "small",
         "9875018.48"
        ],
        [
         "16",
         "2015-09-06",
         "conventional",
         "2015",
         "1.02",
         "small",
         "12569277.14"
        ],
        [
         "17",
         "2015-08-30",
         "conventional",
         "2015",
         "1.07",
         "small",
         "11650976.87"
        ],
        [
         "18",
         "2015-08-23",
         "conventional",
         "2015",
         "1.08",
         "small",
         "11283021.31"
        ],
        [
         "19",
         "2015-08-16",
         "conventional",
         "2015",
         "1.05",
         "small",
         "12680252.48"
        ],
        [
         "20",
         "2015-08-09",
         "conventional",
         "2015",
         "1.05",
         "small",
         "13003371.07"
        ],
        [
         "21",
         "2015-08-02",
         "conventional",
         "2015",
         "1.09",
         "small",
         "12115233.76"
        ],
        [
         "22",
         "2015-07-26",
         "conventional",
         "2015",
         "1.07",
         "small",
         "12196225.93"
        ],
        [
         "23",
         "2015-07-19",
         "conventional",
         "2015",
         "1.07",
         "small",
         "12742760.17"
        ],
        [
         "24",
         "2015-07-12",
         "conventional",
         "2015",
         "1.07",
         "small",
         "12384449.4"
        ],
        [
         "25",
         "2015-07-05",
         "conventional",
         "2015",
         "1.04",
         "small",
         "15643939.37"
        ],
        [
         "26",
         "2015-06-28",
         "conventional",
         "2015",
         "1.06",
         "small",
         "13299568.71"
        ],
        [
         "27",
         "2015-06-21",
         "conventional",
         "2015",
         "1.02",
         "small",
         "14699604.93"
        ],
        [
         "28",
         "2015-06-14",
         "conventional",
         "2015",
         "0.98",
         "small",
         "16383685.07"
        ],
        [
         "29",
         "2015-06-07",
         "conventional",
         "2015",
         "1.0",
         "small",
         "16529797.6"
        ],
        [
         "30",
         "2015-05-31",
         "conventional",
         "2015",
         "1.03",
         "small",
         "15503613.33"
        ],
        [
         "31",
         "2015-05-24",
         "conventional",
         "2015",
         "1.04",
         "small",
         "16000107.8"
        ],
        [
         "32",
         "2015-05-17",
         "conventional",
         "2015",
         "1.06",
         "small",
         "14615941.59"
        ],
        [
         "33",
         "2015-05-10",
         "conventional",
         "2015",
         "1.02",
         "small",
         "16215328.75"
        ],
        [
         "34",
         "2015-05-03",
         "conventional",
         "2015",
         "0.96",
         "small",
         "17787611.93"
        ],
        [
         "35",
         "2015-04-26",
         "conventional",
         "2015",
         "1.07",
         "small",
         "13833715.28"
        ],
        [
         "36",
         "2015-04-19",
         "conventional",
         "2015",
         "1.03",
         "small",
         "14251319.31"
        ],
        [
         "37",
         "2015-04-12",
         "conventional",
         "2015",
         "1.02",
         "small",
         "14793354.18"
        ],
        [
         "38",
         "2015-04-05",
         "conventional",
         "2015",
         "1.06",
         "small",
         "13939014.43"
        ],
        [
         "39",
         "2015-03-29",
         "conventional",
         "2015",
         "1.04",
         "small",
         "12524637.04"
        ],
        [
         "40",
         "2015-03-22",
         "conventional",
         "2015",
         "1.01",
         "small",
         "13697405.61"
        ],
        [
         "41",
         "2015-03-15",
         "conventional",
         "2015",
         "1.04",
         "small",
         "13149988.71"
        ],
        [
         "42",
         "2015-03-08",
         "conventional",
         "2015",
         "1.02",
         "small",
         "13013750.35"
        ],
        [
         "43",
         "2015-03-01",
         "conventional",
         "2015",
         "0.97",
         "small",
         "13282222.98"
        ],
        [
         "44",
         "2015-02-22",
         "conventional",
         "2015",
         "1.02",
         "small",
         "12628562.36"
        ],
        [
         "45",
         "2015-02-15",
         "conventional",
         "2015",
         "1.03",
         "small",
         "12626615.3"
        ],
        [
         "46",
         "2015-02-08",
         "conventional",
         "2015",
         "0.95",
         "small",
         "13308193.4"
        ],
        [
         "47",
         "2015-02-01",
         "conventional",
         "2015",
         "0.89",
         "small",
         "18933038.04"
        ],
        [
         "48",
         "2015-01-25",
         "conventional",
         "2015",
         "1.04",
         "small",
         "12167445.03"
        ],
        [
         "49",
         "2015-01-18",
         "conventional",
         "2015",
         "1.03",
         "small",
         "11858139.34"
        ]
       ],
       "shape": {
        "columns": 6,
        "rows": 1014
       }
      },
      "text/html": [
       "<div>\n",
       "<style scoped>\n",
       "    .dataframe tbody tr th:only-of-type {\n",
       "        vertical-align: middle;\n",
       "    }\n",
       "\n",
       "    .dataframe tbody tr th {\n",
       "        vertical-align: top;\n",
       "    }\n",
       "\n",
       "    .dataframe thead th {\n",
       "        text-align: right;\n",
       "    }\n",
       "</style>\n",
       "<table border=\"1\" class=\"dataframe\">\n",
       "  <thead>\n",
       "    <tr style=\"text-align: right;\">\n",
       "      <th></th>\n",
       "      <th>date</th>\n",
       "      <th>type</th>\n",
       "      <th>year</th>\n",
       "      <th>avg_price</th>\n",
       "      <th>size</th>\n",
       "      <th>nb_sold</th>\n",
       "    </tr>\n",
       "  </thead>\n",
       "  <tbody>\n",
       "    <tr>\n",
       "      <th>0</th>\n",
       "      <td>2015-12-27</td>\n",
       "      <td>conventional</td>\n",
       "      <td>2015</td>\n",
       "      <td>0.95</td>\n",
       "      <td>small</td>\n",
       "      <td>9626901.09</td>\n",
       "    </tr>\n",
       "    <tr>\n",
       "      <th>1</th>\n",
       "      <td>2015-12-20</td>\n",
       "      <td>conventional</td>\n",
       "      <td>2015</td>\n",
       "      <td>0.98</td>\n",
       "      <td>small</td>\n",
       "      <td>8710021.76</td>\n",
       "    </tr>\n",
       "    <tr>\n",
       "      <th>2</th>\n",
       "      <td>2015-12-13</td>\n",
       "      <td>conventional</td>\n",
       "      <td>2015</td>\n",
       "      <td>0.93</td>\n",
       "      <td>small</td>\n",
       "      <td>9855053.66</td>\n",
       "    </tr>\n",
       "    <tr>\n",
       "      <th>3</th>\n",
       "      <td>2015-12-06</td>\n",
       "      <td>conventional</td>\n",
       "      <td>2015</td>\n",
       "      <td>0.89</td>\n",
       "      <td>small</td>\n",
       "      <td>9405464.36</td>\n",
       "    </tr>\n",
       "    <tr>\n",
       "      <th>4</th>\n",
       "      <td>2015-11-29</td>\n",
       "      <td>conventional</td>\n",
       "      <td>2015</td>\n",
       "      <td>0.99</td>\n",
       "      <td>small</td>\n",
       "      <td>8094803.56</td>\n",
       "    </tr>\n",
       "    <tr>\n",
       "      <th>...</th>\n",
       "      <td>...</td>\n",
       "      <td>...</td>\n",
       "      <td>...</td>\n",
       "      <td>...</td>\n",
       "      <td>...</td>\n",
       "      <td>...</td>\n",
       "    </tr>\n",
       "    <tr>\n",
       "      <th>1009</th>\n",
       "      <td>2018-02-04</td>\n",
       "      <td>organic</td>\n",
       "      <td>2018</td>\n",
       "      <td>1.53</td>\n",
       "      <td>extra_large</td>\n",
       "      <td>1703.52</td>\n",
       "    </tr>\n",
       "    <tr>\n",
       "      <th>1010</th>\n",
       "      <td>2018-01-28</td>\n",
       "      <td>organic</td>\n",
       "      <td>2018</td>\n",
       "      <td>1.61</td>\n",
       "      <td>extra_large</td>\n",
       "      <td>1270.61</td>\n",
       "    </tr>\n",
       "    <tr>\n",
       "      <th>1011</th>\n",
       "      <td>2018-01-21</td>\n",
       "      <td>organic</td>\n",
       "      <td>2018</td>\n",
       "      <td>1.63</td>\n",
       "      <td>extra_large</td>\n",
       "      <td>1490.02</td>\n",
       "    </tr>\n",
       "    <tr>\n",
       "      <th>1012</th>\n",
       "      <td>2018-01-14</td>\n",
       "      <td>organic</td>\n",
       "      <td>2018</td>\n",
       "      <td>1.59</td>\n",
       "      <td>extra_large</td>\n",
       "      <td>1580.01</td>\n",
       "    </tr>\n",
       "    <tr>\n",
       "      <th>1013</th>\n",
       "      <td>2018-01-07</td>\n",
       "      <td>organic</td>\n",
       "      <td>2018</td>\n",
       "      <td>1.51</td>\n",
       "      <td>extra_large</td>\n",
       "      <td>1289.07</td>\n",
       "    </tr>\n",
       "  </tbody>\n",
       "</table>\n",
       "<p>1014 rows × 6 columns</p>\n",
       "</div>"
      ],
      "text/plain": [
       "            date          type  year  avg_price         size     nb_sold\n",
       "0     2015-12-27  conventional  2015       0.95        small  9626901.09\n",
       "1     2015-12-20  conventional  2015       0.98        small  8710021.76\n",
       "2     2015-12-13  conventional  2015       0.93        small  9855053.66\n",
       "3     2015-12-06  conventional  2015       0.89        small  9405464.36\n",
       "4     2015-11-29  conventional  2015       0.99        small  8094803.56\n",
       "...          ...           ...   ...        ...          ...         ...\n",
       "1009  2018-02-04       organic  2018       1.53  extra_large     1703.52\n",
       "1010  2018-01-28       organic  2018       1.61  extra_large     1270.61\n",
       "1011  2018-01-21       organic  2018       1.63  extra_large     1490.02\n",
       "1012  2018-01-14       organic  2018       1.59  extra_large     1580.01\n",
       "1013  2018-01-07       organic  2018       1.51  extra_large     1289.07\n",
       "\n",
       "[1014 rows x 6 columns]"
      ]
     },
     "execution_count": 3,
     "metadata": {},
     "output_type": "execute_result"
    }
   ],
   "source": [
    "# Replace with your actual path if it's not in the same folder\n",
    "with open(\"avoplotto.pkl\", \"rb\") as f:\n",
    "    data = pickle.load(f)\n",
    "data\n"
   ]
  },
  {
   "cell_type": "code",
   "execution_count": 4,
   "id": "a77c6dda",
   "metadata": {},
   "outputs": [
    {
     "data": {
      "text/plain": [
       "'2015-01-04'"
      ]
     },
     "execution_count": 4,
     "metadata": {},
     "output_type": "execute_result"
    }
   ],
   "source": [
    "data['date'].min()"
   ]
  },
  {
   "cell_type": "code",
   "execution_count": 5,
   "id": "be5633d1",
   "metadata": {},
   "outputs": [
    {
     "data": {
      "text/plain": [
       "'2018-03-25'"
      ]
     },
     "execution_count": 5,
     "metadata": {},
     "output_type": "execute_result"
    }
   ],
   "source": [
    "data['date'].max()"
   ]
  },
  {
   "cell_type": "code",
   "execution_count": 18,
   "id": "67fff3c0",
   "metadata": {},
   "outputs": [
    {
     "name": "stdout",
     "output_type": "stream",
     "text": [
      "most_distribution: 2015-01-04\n"
     ]
    }
   ],
   "source": [
    "most_distribution = data['date'].mode()[0]\n",
    "print(f'most_distribution: {most_distribution}')"
   ]
  },
  {
   "cell_type": "code",
   "execution_count": 22,
   "id": "edb73a9a",
   "metadata": {},
   "outputs": [
    {
     "data": {
      "text/plain": [
       "<bound method DataFrame.value_counts of             date          type  year  avg_price         size     nb_sold  \\\n",
       "0     2015-12-27  conventional  2015       0.95        small  9626901.09   \n",
       "1     2015-12-20  conventional  2015       0.98        small  8710021.76   \n",
       "2     2015-12-13  conventional  2015       0.93        small  9855053.66   \n",
       "3     2015-12-06  conventional  2015       0.89        small  9405464.36   \n",
       "4     2015-11-29  conventional  2015       0.99        small  8094803.56   \n",
       "...          ...           ...   ...        ...          ...         ...   \n",
       "1009  2018-02-04       organic  2018       1.53  extra_large     1703.52   \n",
       "1010  2018-01-28       organic  2018       1.61  extra_large     1270.61   \n",
       "1011  2018-01-21       organic  2018       1.63  extra_large     1490.02   \n",
       "1012  2018-01-14       organic  2018       1.59  extra_large     1580.01   \n",
       "1013  2018-01-07       organic  2018       1.51  extra_large     1289.07   \n",
       "\n",
       "         3nb_sold  \n",
       "0     28880703.27  \n",
       "1     26130065.28  \n",
       "2     29565160.98  \n",
       "3     28216393.08  \n",
       "4     24284410.68  \n",
       "...           ...  \n",
       "1009      5110.56  \n",
       "1010      3811.83  \n",
       "1011      4470.06  \n",
       "1012      4740.03  \n",
       "1013      3867.21  \n",
       "\n",
       "[1014 rows x 7 columns]>"
      ]
     },
     "execution_count": 22,
     "metadata": {},
     "output_type": "execute_result"
    }
   ],
   "source": [
    "data.value_counts"
   ]
  },
  {
   "cell_type": "code",
   "execution_count": 23,
   "id": "e4e80e59",
   "metadata": {},
   "outputs": [
    {
     "data": {
      "text/plain": [
       "(1014, 7)"
      ]
     },
     "execution_count": 23,
     "metadata": {},
     "output_type": "execute_result"
    }
   ],
   "source": [
    "data.shape"
   ]
  },
  {
   "cell_type": "code",
   "execution_count": 24,
   "id": "31efa12b",
   "metadata": {},
   "outputs": [
    {
     "data": {
      "application/vnd.microsoft.datawrangler.viewer.v0+json": {
       "columns": [
        {
         "name": "index",
         "rawType": "object",
         "type": "string"
        },
        {
         "name": "year",
         "rawType": "float64",
         "type": "float"
        },
        {
         "name": "avg_price",
         "rawType": "float64",
         "type": "float"
        },
        {
         "name": "nb_sold",
         "rawType": "float64",
         "type": "float"
        },
        {
         "name": "3nb_sold",
         "rawType": "float64",
         "type": "float"
        }
       ],
       "ref": "7fc68402-baf2-4a89-84f2-95df801b8150",
       "rows": [
        [
         "count",
         "1014.0",
         "1014.0",
         "1014.0",
         "1014.0"
        ],
        [
         "mean",
         "2016.1479289940828",
         "1.3190236686390533",
         "4167774.131499014",
         "12503322.39449704"
        ],
        [
         "std",
         "0.9403800091382972",
         "0.2951682864180401",
         "5596185.170267675",
         "16788555.510803025"
        ],
        [
         "min",
         "2015.0",
         "0.76",
         "834.3",
         "2502.8999999999996"
        ],
        [
         "25%",
         "2015.0",
         "1.04",
         "132075.4725",
         "396226.4175"
        ],
        [
         "50%",
         "2016.0",
         "1.3250000000000002",
         "423232.72",
         "1269698.1600000001"
        ],
        [
         "75%",
         "2017.0",
         "1.54",
         "10190660.63",
         "30571981.89"
        ],
        [
         "max",
         "2018.0",
         "2.09",
         "22743616.17",
         "68230848.51"
        ]
       ],
       "shape": {
        "columns": 4,
        "rows": 8
       }
      },
      "text/html": [
       "<div>\n",
       "<style scoped>\n",
       "    .dataframe tbody tr th:only-of-type {\n",
       "        vertical-align: middle;\n",
       "    }\n",
       "\n",
       "    .dataframe tbody tr th {\n",
       "        vertical-align: top;\n",
       "    }\n",
       "\n",
       "    .dataframe thead th {\n",
       "        text-align: right;\n",
       "    }\n",
       "</style>\n",
       "<table border=\"1\" class=\"dataframe\">\n",
       "  <thead>\n",
       "    <tr style=\"text-align: right;\">\n",
       "      <th></th>\n",
       "      <th>year</th>\n",
       "      <th>avg_price</th>\n",
       "      <th>nb_sold</th>\n",
       "      <th>3nb_sold</th>\n",
       "    </tr>\n",
       "  </thead>\n",
       "  <tbody>\n",
       "    <tr>\n",
       "      <th>count</th>\n",
       "      <td>1014.000000</td>\n",
       "      <td>1014.000000</td>\n",
       "      <td>1.014000e+03</td>\n",
       "      <td>1.014000e+03</td>\n",
       "    </tr>\n",
       "    <tr>\n",
       "      <th>mean</th>\n",
       "      <td>2016.147929</td>\n",
       "      <td>1.319024</td>\n",
       "      <td>4.167774e+06</td>\n",
       "      <td>1.250332e+07</td>\n",
       "    </tr>\n",
       "    <tr>\n",
       "      <th>std</th>\n",
       "      <td>0.940380</td>\n",
       "      <td>0.295168</td>\n",
       "      <td>5.596185e+06</td>\n",
       "      <td>1.678856e+07</td>\n",
       "    </tr>\n",
       "    <tr>\n",
       "      <th>min</th>\n",
       "      <td>2015.000000</td>\n",
       "      <td>0.760000</td>\n",
       "      <td>8.343000e+02</td>\n",
       "      <td>2.502900e+03</td>\n",
       "    </tr>\n",
       "    <tr>\n",
       "      <th>25%</th>\n",
       "      <td>2015.000000</td>\n",
       "      <td>1.040000</td>\n",
       "      <td>1.320755e+05</td>\n",
       "      <td>3.962264e+05</td>\n",
       "    </tr>\n",
       "    <tr>\n",
       "      <th>50%</th>\n",
       "      <td>2016.000000</td>\n",
       "      <td>1.325000</td>\n",
       "      <td>4.232327e+05</td>\n",
       "      <td>1.269698e+06</td>\n",
       "    </tr>\n",
       "    <tr>\n",
       "      <th>75%</th>\n",
       "      <td>2017.000000</td>\n",
       "      <td>1.540000</td>\n",
       "      <td>1.019066e+07</td>\n",
       "      <td>3.057198e+07</td>\n",
       "    </tr>\n",
       "    <tr>\n",
       "      <th>max</th>\n",
       "      <td>2018.000000</td>\n",
       "      <td>2.090000</td>\n",
       "      <td>2.274362e+07</td>\n",
       "      <td>6.823085e+07</td>\n",
       "    </tr>\n",
       "  </tbody>\n",
       "</table>\n",
       "</div>"
      ],
      "text/plain": [
       "              year    avg_price       nb_sold      3nb_sold\n",
       "count  1014.000000  1014.000000  1.014000e+03  1.014000e+03\n",
       "mean   2016.147929     1.319024  4.167774e+06  1.250332e+07\n",
       "std       0.940380     0.295168  5.596185e+06  1.678856e+07\n",
       "min    2015.000000     0.760000  8.343000e+02  2.502900e+03\n",
       "25%    2015.000000     1.040000  1.320755e+05  3.962264e+05\n",
       "50%    2016.000000     1.325000  4.232327e+05  1.269698e+06\n",
       "75%    2017.000000     1.540000  1.019066e+07  3.057198e+07\n",
       "max    2018.000000     2.090000  2.274362e+07  6.823085e+07"
      ]
     },
     "execution_count": 24,
     "metadata": {},
     "output_type": "execute_result"
    }
   ],
   "source": [
    "data.describe()"
   ]
  },
  {
   "cell_type": "code",
   "execution_count": 25,
   "id": "b17ea9b7",
   "metadata": {},
   "outputs": [
    {
     "name": "stdout",
     "output_type": "stream",
     "text": [
      "<class 'pandas.core.frame.DataFrame'>\n",
      "RangeIndex: 1014 entries, 0 to 1013\n",
      "Data columns (total 7 columns):\n",
      " #   Column     Non-Null Count  Dtype  \n",
      "---  ------     --------------  -----  \n",
      " 0   date       1014 non-null   object \n",
      " 1   type       1014 non-null   object \n",
      " 2   year       1014 non-null   int64  \n",
      " 3   avg_price  1014 non-null   float64\n",
      " 4   size       1014 non-null   object \n",
      " 5   nb_sold    1014 non-null   float64\n",
      " 6   3nb_sold   1014 non-null   float64\n",
      "dtypes: float64(3), int64(1), object(3)\n",
      "memory usage: 55.6+ KB\n"
     ]
    }
   ],
   "source": [
    "data.info()"
   ]
  },
  {
   "cell_type": "code",
   "execution_count": 26,
   "id": "bf834e22",
   "metadata": {},
   "outputs": [
    {
     "data": {
      "text/plain": [
       "RangeIndex(start=0, stop=1014, step=1)"
      ]
     },
     "execution_count": 26,
     "metadata": {},
     "output_type": "execute_result"
    }
   ],
   "source": [
    "data.index"
   ]
  },
  {
   "cell_type": "code",
   "execution_count": 27,
   "id": "3adfed6d",
   "metadata": {},
   "outputs": [
    {
     "data": {
      "text/plain": [
       "Index(['date', 'type', 'year', 'avg_price', 'size', 'nb_sold', '3nb_sold'], dtype='object')"
      ]
     },
     "execution_count": 27,
     "metadata": {},
     "output_type": "execute_result"
    }
   ],
   "source": [
    "data.columns"
   ]
  },
  {
   "cell_type": "code",
   "execution_count": 29,
   "id": "1c7eebbe",
   "metadata": {},
   "outputs": [
    {
     "data": {
      "application/vnd.microsoft.datawrangler.viewer.v0+json": {
       "columns": [
        {
         "name": "index",
         "rawType": "int64",
         "type": "integer"
        },
        {
         "name": "date",
         "rawType": "object",
         "type": "string"
        },
        {
         "name": "type",
         "rawType": "object",
         "type": "string"
        },
        {
         "name": "year",
         "rawType": "int64",
         "type": "integer"
        },
        {
         "name": "avg_price",
         "rawType": "float64",
         "type": "float"
        },
        {
         "name": "size",
         "rawType": "object",
         "type": "string"
        },
        {
         "name": "nb_sold",
         "rawType": "float64",
         "type": "float"
        },
        {
         "name": "3nb_sold",
         "rawType": "float64",
         "type": "float"
        }
       ],
       "ref": "d1022740-823e-41e1-90d3-8b6e02425be7",
       "rows": [
        [
         "51",
         "2015-01-04",
         "conventional",
         "2015",
         "0.95",
         "small",
         "12357161.34",
         "37071484.019999996"
        ],
        [
         "220",
         "2015-01-04",
         "organic",
         "2015",
         "1.46",
         "small",
         "233286.13",
         "699858.39"
        ],
        [
         "389",
         "2015-01-04",
         "conventional",
         "2015",
         "0.95",
         "large",
         "13624083.05",
         "40872249.150000006"
        ],
        [
         "558",
         "2015-01-04",
         "organic",
         "2015",
         "1.46",
         "large",
         "216611.2",
         "649833.6000000001"
        ],
        [
         "727",
         "2015-01-04",
         "conventional",
         "2015",
         "0.95",
         "extra_large",
         "844093.32",
         "2532279.96"
        ],
        [
         "896",
         "2015-01-04",
         "organic",
         "2015",
         "1.46",
         "extra_large",
         "4370.99",
         "13112.97"
        ]
       ],
       "shape": {
        "columns": 7,
        "rows": 6
       }
      },
      "text/html": [
       "<div>\n",
       "<style scoped>\n",
       "    .dataframe tbody tr th:only-of-type {\n",
       "        vertical-align: middle;\n",
       "    }\n",
       "\n",
       "    .dataframe tbody tr th {\n",
       "        vertical-align: top;\n",
       "    }\n",
       "\n",
       "    .dataframe thead th {\n",
       "        text-align: right;\n",
       "    }\n",
       "</style>\n",
       "<table border=\"1\" class=\"dataframe\">\n",
       "  <thead>\n",
       "    <tr style=\"text-align: right;\">\n",
       "      <th></th>\n",
       "      <th>date</th>\n",
       "      <th>type</th>\n",
       "      <th>year</th>\n",
       "      <th>avg_price</th>\n",
       "      <th>size</th>\n",
       "      <th>nb_sold</th>\n",
       "      <th>3nb_sold</th>\n",
       "    </tr>\n",
       "  </thead>\n",
       "  <tbody>\n",
       "    <tr>\n",
       "      <th>51</th>\n",
       "      <td>2015-01-04</td>\n",
       "      <td>conventional</td>\n",
       "      <td>2015</td>\n",
       "      <td>0.95</td>\n",
       "      <td>small</td>\n",
       "      <td>12357161.34</td>\n",
       "      <td>37071484.02</td>\n",
       "    </tr>\n",
       "    <tr>\n",
       "      <th>220</th>\n",
       "      <td>2015-01-04</td>\n",
       "      <td>organic</td>\n",
       "      <td>2015</td>\n",
       "      <td>1.46</td>\n",
       "      <td>small</td>\n",
       "      <td>233286.13</td>\n",
       "      <td>699858.39</td>\n",
       "    </tr>\n",
       "    <tr>\n",
       "      <th>389</th>\n",
       "      <td>2015-01-04</td>\n",
       "      <td>conventional</td>\n",
       "      <td>2015</td>\n",
       "      <td>0.95</td>\n",
       "      <td>large</td>\n",
       "      <td>13624083.05</td>\n",
       "      <td>40872249.15</td>\n",
       "    </tr>\n",
       "    <tr>\n",
       "      <th>558</th>\n",
       "      <td>2015-01-04</td>\n",
       "      <td>organic</td>\n",
       "      <td>2015</td>\n",
       "      <td>1.46</td>\n",
       "      <td>large</td>\n",
       "      <td>216611.20</td>\n",
       "      <td>649833.60</td>\n",
       "    </tr>\n",
       "    <tr>\n",
       "      <th>727</th>\n",
       "      <td>2015-01-04</td>\n",
       "      <td>conventional</td>\n",
       "      <td>2015</td>\n",
       "      <td>0.95</td>\n",
       "      <td>extra_large</td>\n",
       "      <td>844093.32</td>\n",
       "      <td>2532279.96</td>\n",
       "    </tr>\n",
       "    <tr>\n",
       "      <th>896</th>\n",
       "      <td>2015-01-04</td>\n",
       "      <td>organic</td>\n",
       "      <td>2015</td>\n",
       "      <td>1.46</td>\n",
       "      <td>extra_large</td>\n",
       "      <td>4370.99</td>\n",
       "      <td>13112.97</td>\n",
       "    </tr>\n",
       "  </tbody>\n",
       "</table>\n",
       "</div>"
      ],
      "text/plain": [
       "           date          type  year  avg_price         size      nb_sold  \\\n",
       "51   2015-01-04  conventional  2015       0.95        small  12357161.34   \n",
       "220  2015-01-04       organic  2015       1.46        small    233286.13   \n",
       "389  2015-01-04  conventional  2015       0.95        large  13624083.05   \n",
       "558  2015-01-04       organic  2015       1.46        large    216611.20   \n",
       "727  2015-01-04  conventional  2015       0.95  extra_large    844093.32   \n",
       "896  2015-01-04       organic  2015       1.46  extra_large      4370.99   \n",
       "\n",
       "        3nb_sold  \n",
       "51   37071484.02  \n",
       "220    699858.39  \n",
       "389  40872249.15  \n",
       "558    649833.60  \n",
       "727   2532279.96  \n",
       "896     13112.97  "
      ]
     },
     "execution_count": 29,
     "metadata": {},
     "output_type": "execute_result"
    }
   ],
   "source": [
    "condition = data['date'].isin(['2015-01-04'])\n",
    "data[condition]"
   ]
  },
  {
   "cell_type": "code",
   "execution_count": 7,
   "id": "c6a4d29d",
   "metadata": {},
   "outputs": [
    {
     "name": "stderr",
     "output_type": "stream",
     "text": [
      "/tmp/ipykernel_309486/2262383381.py:4: FutureWarning: using <function tripleTheSold at 0x73b3a00cfe20> in Series.agg cannot aggregate and has been deprecated. Use Series.transform to keep behavior unchanged.\n",
      "  data['3nb_sold'] = data['nb_sold'].agg(tripleTheSold)\n"
     ]
    },
    {
     "data": {
      "application/vnd.microsoft.datawrangler.viewer.v0+json": {
       "columns": [
        {
         "name": "index",
         "rawType": "int64",
         "type": "integer"
        },
        {
         "name": "date",
         "rawType": "object",
         "type": "string"
        },
        {
         "name": "type",
         "rawType": "object",
         "type": "string"
        },
        {
         "name": "year",
         "rawType": "int64",
         "type": "integer"
        },
        {
         "name": "avg_price",
         "rawType": "float64",
         "type": "float"
        },
        {
         "name": "size",
         "rawType": "object",
         "type": "string"
        },
        {
         "name": "nb_sold",
         "rawType": "float64",
         "type": "float"
        },
        {
         "name": "3nb_sold",
         "rawType": "float64",
         "type": "float"
        }
       ],
       "ref": "20e6e0ea-1fa6-4a98-a0ea-47cabcc58a9c",
       "rows": [
        [
         "0",
         "2015-12-27",
         "conventional",
         "2015",
         "0.95",
         "small",
         "9626901.09",
         "28880703.27"
        ],
        [
         "1",
         "2015-12-20",
         "conventional",
         "2015",
         "0.98",
         "small",
         "8710021.76",
         "26130065.28"
        ],
        [
         "2",
         "2015-12-13",
         "conventional",
         "2015",
         "0.93",
         "small",
         "9855053.66",
         "29565160.98"
        ],
        [
         "3",
         "2015-12-06",
         "conventional",
         "2015",
         "0.89",
         "small",
         "9405464.36",
         "28216393.08"
        ],
        [
         "4",
         "2015-11-29",
         "conventional",
         "2015",
         "0.99",
         "small",
         "8094803.56",
         "24284410.68"
        ],
        [
         "5",
         "2015-11-22",
         "conventional",
         "2015",
         "0.96",
         "small",
         "8571849.8",
         "25715549.400000002"
        ],
        [
         "6",
         "2015-11-15",
         "conventional",
         "2015",
         "0.92",
         "small",
         "9907981.27",
         "29723943.81"
        ],
        [
         "7",
         "2015-11-08",
         "conventional",
         "2015",
         "0.97",
         "small",
         "9991330.31",
         "29973990.93"
        ],
        [
         "8",
         "2015-11-01",
         "conventional",
         "2015",
         "0.97",
         "small",
         "10138703.85",
         "30416111.549999997"
        ],
        [
         "9",
         "2015-10-25",
         "conventional",
         "2015",
         "1.04",
         "small",
         "8683958.8",
         "26051876.400000002"
        ],
        [
         "10",
         "2015-10-18",
         "conventional",
         "2015",
         "0.99",
         "small",
         "9162094.14",
         "27486282.42"
        ],
        [
         "11",
         "2015-10-11",
         "conventional",
         "2015",
         "1.0",
         "small",
         "8828340.53",
         "26485021.589999996"
        ],
        [
         "12",
         "2015-10-04",
         "conventional",
         "2015",
         "1.02",
         "small",
         "8353619.97",
         "25060859.91"
        ],
        [
         "13",
         "2015-09-27",
         "conventional",
         "2015",
         "1.03",
         "small",
         "8454208.8",
         "25362626.400000002"
        ],
        [
         "14",
         "2015-09-20",
         "conventional",
         "2015",
         "1.02",
         "small",
         "9422275.27",
         "28266825.81"
        ],
        [
         "15",
         "2015-09-13",
         "conventional",
         "2015",
         "1.03",
         "small",
         "9875018.48",
         "29625055.44"
        ],
        [
         "16",
         "2015-09-06",
         "conventional",
         "2015",
         "1.02",
         "small",
         "12569277.14",
         "37707831.42"
        ],
        [
         "17",
         "2015-08-30",
         "conventional",
         "2015",
         "1.07",
         "small",
         "11650976.87",
         "34952930.61"
        ],
        [
         "18",
         "2015-08-23",
         "conventional",
         "2015",
         "1.08",
         "small",
         "11283021.31",
         "33849063.93"
        ],
        [
         "19",
         "2015-08-16",
         "conventional",
         "2015",
         "1.05",
         "small",
         "12680252.48",
         "38040757.44"
        ],
        [
         "20",
         "2015-08-09",
         "conventional",
         "2015",
         "1.05",
         "small",
         "13003371.07",
         "39010113.21"
        ],
        [
         "21",
         "2015-08-02",
         "conventional",
         "2015",
         "1.09",
         "small",
         "12115233.76",
         "36345701.28"
        ],
        [
         "22",
         "2015-07-26",
         "conventional",
         "2015",
         "1.07",
         "small",
         "12196225.93",
         "36588677.79"
        ],
        [
         "23",
         "2015-07-19",
         "conventional",
         "2015",
         "1.07",
         "small",
         "12742760.17",
         "38228280.51"
        ],
        [
         "24",
         "2015-07-12",
         "conventional",
         "2015",
         "1.07",
         "small",
         "12384449.4",
         "37153348.2"
        ],
        [
         "25",
         "2015-07-05",
         "conventional",
         "2015",
         "1.04",
         "small",
         "15643939.37",
         "46931818.11"
        ],
        [
         "26",
         "2015-06-28",
         "conventional",
         "2015",
         "1.06",
         "small",
         "13299568.71",
         "39898706.13"
        ],
        [
         "27",
         "2015-06-21",
         "conventional",
         "2015",
         "1.02",
         "small",
         "14699604.93",
         "44098814.79"
        ],
        [
         "28",
         "2015-06-14",
         "conventional",
         "2015",
         "0.98",
         "small",
         "16383685.07",
         "49151055.21"
        ],
        [
         "29",
         "2015-06-07",
         "conventional",
         "2015",
         "1.0",
         "small",
         "16529797.6",
         "49589392.8"
        ],
        [
         "30",
         "2015-05-31",
         "conventional",
         "2015",
         "1.03",
         "small",
         "15503613.33",
         "46510839.99"
        ],
        [
         "31",
         "2015-05-24",
         "conventional",
         "2015",
         "1.04",
         "small",
         "16000107.8",
         "48000323.400000006"
        ],
        [
         "32",
         "2015-05-17",
         "conventional",
         "2015",
         "1.06",
         "small",
         "14615941.59",
         "43847824.769999996"
        ],
        [
         "33",
         "2015-05-10",
         "conventional",
         "2015",
         "1.02",
         "small",
         "16215328.75",
         "48645986.25"
        ],
        [
         "34",
         "2015-05-03",
         "conventional",
         "2015",
         "0.96",
         "small",
         "17787611.93",
         "53362835.79"
        ],
        [
         "35",
         "2015-04-26",
         "conventional",
         "2015",
         "1.07",
         "small",
         "13833715.28",
         "41501145.839999996"
        ],
        [
         "36",
         "2015-04-19",
         "conventional",
         "2015",
         "1.03",
         "small",
         "14251319.31",
         "42753957.93"
        ],
        [
         "37",
         "2015-04-12",
         "conventional",
         "2015",
         "1.02",
         "small",
         "14793354.18",
         "44380062.54"
        ],
        [
         "38",
         "2015-04-05",
         "conventional",
         "2015",
         "1.06",
         "small",
         "13939014.43",
         "41817043.29"
        ],
        [
         "39",
         "2015-03-29",
         "conventional",
         "2015",
         "1.04",
         "small",
         "12524637.04",
         "37573911.12"
        ],
        [
         "40",
         "2015-03-22",
         "conventional",
         "2015",
         "1.01",
         "small",
         "13697405.61",
         "41092216.83"
        ],
        [
         "41",
         "2015-03-15",
         "conventional",
         "2015",
         "1.04",
         "small",
         "13149988.71",
         "39449966.13"
        ],
        [
         "42",
         "2015-03-08",
         "conventional",
         "2015",
         "1.02",
         "small",
         "13013750.35",
         "39041251.05"
        ],
        [
         "43",
         "2015-03-01",
         "conventional",
         "2015",
         "0.97",
         "small",
         "13282222.98",
         "39846668.94"
        ],
        [
         "44",
         "2015-02-22",
         "conventional",
         "2015",
         "1.02",
         "small",
         "12628562.36",
         "37885687.08"
        ],
        [
         "45",
         "2015-02-15",
         "conventional",
         "2015",
         "1.03",
         "small",
         "12626615.3",
         "37879845.900000006"
        ],
        [
         "46",
         "2015-02-08",
         "conventional",
         "2015",
         "0.95",
         "small",
         "13308193.4",
         "39924580.2"
        ],
        [
         "47",
         "2015-02-01",
         "conventional",
         "2015",
         "0.89",
         "small",
         "18933038.04",
         "56799114.12"
        ],
        [
         "48",
         "2015-01-25",
         "conventional",
         "2015",
         "1.04",
         "small",
         "12167445.03",
         "36502335.089999996"
        ],
        [
         "49",
         "2015-01-18",
         "conventional",
         "2015",
         "1.03",
         "small",
         "11858139.34",
         "35574418.019999996"
        ]
       ],
       "shape": {
        "columns": 7,
        "rows": 1014
       }
      },
      "text/html": [
       "<div>\n",
       "<style scoped>\n",
       "    .dataframe tbody tr th:only-of-type {\n",
       "        vertical-align: middle;\n",
       "    }\n",
       "\n",
       "    .dataframe tbody tr th {\n",
       "        vertical-align: top;\n",
       "    }\n",
       "\n",
       "    .dataframe thead th {\n",
       "        text-align: right;\n",
       "    }\n",
       "</style>\n",
       "<table border=\"1\" class=\"dataframe\">\n",
       "  <thead>\n",
       "    <tr style=\"text-align: right;\">\n",
       "      <th></th>\n",
       "      <th>date</th>\n",
       "      <th>type</th>\n",
       "      <th>year</th>\n",
       "      <th>avg_price</th>\n",
       "      <th>size</th>\n",
       "      <th>nb_sold</th>\n",
       "      <th>3nb_sold</th>\n",
       "    </tr>\n",
       "  </thead>\n",
       "  <tbody>\n",
       "    <tr>\n",
       "      <th>0</th>\n",
       "      <td>2015-12-27</td>\n",
       "      <td>conventional</td>\n",
       "      <td>2015</td>\n",
       "      <td>0.95</td>\n",
       "      <td>small</td>\n",
       "      <td>9626901.09</td>\n",
       "      <td>28880703.27</td>\n",
       "    </tr>\n",
       "    <tr>\n",
       "      <th>1</th>\n",
       "      <td>2015-12-20</td>\n",
       "      <td>conventional</td>\n",
       "      <td>2015</td>\n",
       "      <td>0.98</td>\n",
       "      <td>small</td>\n",
       "      <td>8710021.76</td>\n",
       "      <td>26130065.28</td>\n",
       "    </tr>\n",
       "    <tr>\n",
       "      <th>2</th>\n",
       "      <td>2015-12-13</td>\n",
       "      <td>conventional</td>\n",
       "      <td>2015</td>\n",
       "      <td>0.93</td>\n",
       "      <td>small</td>\n",
       "      <td>9855053.66</td>\n",
       "      <td>29565160.98</td>\n",
       "    </tr>\n",
       "    <tr>\n",
       "      <th>3</th>\n",
       "      <td>2015-12-06</td>\n",
       "      <td>conventional</td>\n",
       "      <td>2015</td>\n",
       "      <td>0.89</td>\n",
       "      <td>small</td>\n",
       "      <td>9405464.36</td>\n",
       "      <td>28216393.08</td>\n",
       "    </tr>\n",
       "    <tr>\n",
       "      <th>4</th>\n",
       "      <td>2015-11-29</td>\n",
       "      <td>conventional</td>\n",
       "      <td>2015</td>\n",
       "      <td>0.99</td>\n",
       "      <td>small</td>\n",
       "      <td>8094803.56</td>\n",
       "      <td>24284410.68</td>\n",
       "    </tr>\n",
       "    <tr>\n",
       "      <th>...</th>\n",
       "      <td>...</td>\n",
       "      <td>...</td>\n",
       "      <td>...</td>\n",
       "      <td>...</td>\n",
       "      <td>...</td>\n",
       "      <td>...</td>\n",
       "      <td>...</td>\n",
       "    </tr>\n",
       "    <tr>\n",
       "      <th>1009</th>\n",
       "      <td>2018-02-04</td>\n",
       "      <td>organic</td>\n",
       "      <td>2018</td>\n",
       "      <td>1.53</td>\n",
       "      <td>extra_large</td>\n",
       "      <td>1703.52</td>\n",
       "      <td>5110.56</td>\n",
       "    </tr>\n",
       "    <tr>\n",
       "      <th>1010</th>\n",
       "      <td>2018-01-28</td>\n",
       "      <td>organic</td>\n",
       "      <td>2018</td>\n",
       "      <td>1.61</td>\n",
       "      <td>extra_large</td>\n",
       "      <td>1270.61</td>\n",
       "      <td>3811.83</td>\n",
       "    </tr>\n",
       "    <tr>\n",
       "      <th>1011</th>\n",
       "      <td>2018-01-21</td>\n",
       "      <td>organic</td>\n",
       "      <td>2018</td>\n",
       "      <td>1.63</td>\n",
       "      <td>extra_large</td>\n",
       "      <td>1490.02</td>\n",
       "      <td>4470.06</td>\n",
       "    </tr>\n",
       "    <tr>\n",
       "      <th>1012</th>\n",
       "      <td>2018-01-14</td>\n",
       "      <td>organic</td>\n",
       "      <td>2018</td>\n",
       "      <td>1.59</td>\n",
       "      <td>extra_large</td>\n",
       "      <td>1580.01</td>\n",
       "      <td>4740.03</td>\n",
       "    </tr>\n",
       "    <tr>\n",
       "      <th>1013</th>\n",
       "      <td>2018-01-07</td>\n",
       "      <td>organic</td>\n",
       "      <td>2018</td>\n",
       "      <td>1.51</td>\n",
       "      <td>extra_large</td>\n",
       "      <td>1289.07</td>\n",
       "      <td>3867.21</td>\n",
       "    </tr>\n",
       "  </tbody>\n",
       "</table>\n",
       "<p>1014 rows × 7 columns</p>\n",
       "</div>"
      ],
      "text/plain": [
       "            date          type  year  avg_price         size     nb_sold  \\\n",
       "0     2015-12-27  conventional  2015       0.95        small  9626901.09   \n",
       "1     2015-12-20  conventional  2015       0.98        small  8710021.76   \n",
       "2     2015-12-13  conventional  2015       0.93        small  9855053.66   \n",
       "3     2015-12-06  conventional  2015       0.89        small  9405464.36   \n",
       "4     2015-11-29  conventional  2015       0.99        small  8094803.56   \n",
       "...          ...           ...   ...        ...          ...         ...   \n",
       "1009  2018-02-04       organic  2018       1.53  extra_large     1703.52   \n",
       "1010  2018-01-28       organic  2018       1.61  extra_large     1270.61   \n",
       "1011  2018-01-21       organic  2018       1.63  extra_large     1490.02   \n",
       "1012  2018-01-14       organic  2018       1.59  extra_large     1580.01   \n",
       "1013  2018-01-07       organic  2018       1.51  extra_large     1289.07   \n",
       "\n",
       "         3nb_sold  \n",
       "0     28880703.27  \n",
       "1     26130065.28  \n",
       "2     29565160.98  \n",
       "3     28216393.08  \n",
       "4     24284410.68  \n",
       "...           ...  \n",
       "1009      5110.56  \n",
       "1010      3811.83  \n",
       "1011      4470.06  \n",
       "1012      4740.03  \n",
       "1013      3867.21  \n",
       "\n",
       "[1014 rows x 7 columns]"
      ]
     },
     "execution_count": 7,
     "metadata": {},
     "output_type": "execute_result"
    }
   ],
   "source": [
    "def tripleTheSold(nb_sold):\n",
    "    return nb_sold*3\n",
    "\n",
    "data['3nb_sold'] = data['nb_sold'].agg(tripleTheSold)\n",
    "data"
   ]
  },
  {
   "cell_type": "code",
   "execution_count": 32,
   "id": "90933ac7",
   "metadata": {},
   "outputs": [
    {
     "data": {
      "text/plain": [
       "Index(['date', 'type', 'year', 'avg_price', 'size', 'nb_sold', '3nb_sold'], dtype='object')"
      ]
     },
     "execution_count": 32,
     "metadata": {},
     "output_type": "execute_result"
    }
   ],
   "source": [
    "data.columns"
   ]
  },
  {
   "cell_type": "code",
   "execution_count": 46,
   "id": "1c663746",
   "metadata": {},
   "outputs": [
    {
     "data": {
      "application/vnd.microsoft.datawrangler.viewer.v0+json": {
       "columns": [
        {
         "name": "index",
         "rawType": "int64",
         "type": "integer"
        },
        {
         "name": "date",
         "rawType": "object",
         "type": "string"
        },
        {
         "name": "type",
         "rawType": "object",
         "type": "string"
        },
        {
         "name": "year",
         "rawType": "int64",
         "type": "integer"
        },
        {
         "name": "avg_price",
         "rawType": "float64",
         "type": "float"
        },
        {
         "name": "size",
         "rawType": "object",
         "type": "string"
        },
        {
         "name": "nb_sold",
         "rawType": "float64",
         "type": "float"
        },
        {
         "name": "3nb_sold",
         "rawType": "float64",
         "type": "float"
        }
       ],
       "ref": "98d97601-c51c-4b71-8af0-2c362bb1b30a",
       "rows": [
        [
         "1009",
         "2018-02-04",
         "organic",
         "2018",
         "1.53",
         "extra_large",
         "1703.52",
         "5110.5599999999995"
        ],
        [
         "1010",
         "2018-01-28",
         "organic",
         "2018",
         "1.61",
         "extra_large",
         "1270.61",
         "3811.83"
        ],
        [
         "1011",
         "2018-01-21",
         "organic",
         "2018",
         "1.63",
         "extra_large",
         "1490.02",
         "4470.0599999999995"
        ],
        [
         "1012",
         "2018-01-14",
         "organic",
         "2018",
         "1.59",
         "extra_large",
         "1580.01",
         "4740.03"
        ],
        [
         "1013",
         "2018-01-07",
         "organic",
         "2018",
         "1.51",
         "extra_large",
         "1289.07",
         "3867.21"
        ]
       ],
       "shape": {
        "columns": 7,
        "rows": 5
       }
      },
      "text/html": [
       "<div>\n",
       "<style scoped>\n",
       "    .dataframe tbody tr th:only-of-type {\n",
       "        vertical-align: middle;\n",
       "    }\n",
       "\n",
       "    .dataframe tbody tr th {\n",
       "        vertical-align: top;\n",
       "    }\n",
       "\n",
       "    .dataframe thead th {\n",
       "        text-align: right;\n",
       "    }\n",
       "</style>\n",
       "<table border=\"1\" class=\"dataframe\">\n",
       "  <thead>\n",
       "    <tr style=\"text-align: right;\">\n",
       "      <th></th>\n",
       "      <th>date</th>\n",
       "      <th>type</th>\n",
       "      <th>year</th>\n",
       "      <th>avg_price</th>\n",
       "      <th>size</th>\n",
       "      <th>nb_sold</th>\n",
       "      <th>3nb_sold</th>\n",
       "    </tr>\n",
       "  </thead>\n",
       "  <tbody>\n",
       "    <tr>\n",
       "      <th>1009</th>\n",
       "      <td>2018-02-04</td>\n",
       "      <td>organic</td>\n",
       "      <td>2018</td>\n",
       "      <td>1.53</td>\n",
       "      <td>extra_large</td>\n",
       "      <td>1703.52</td>\n",
       "      <td>5110.56</td>\n",
       "    </tr>\n",
       "    <tr>\n",
       "      <th>1010</th>\n",
       "      <td>2018-01-28</td>\n",
       "      <td>organic</td>\n",
       "      <td>2018</td>\n",
       "      <td>1.61</td>\n",
       "      <td>extra_large</td>\n",
       "      <td>1270.61</td>\n",
       "      <td>3811.83</td>\n",
       "    </tr>\n",
       "    <tr>\n",
       "      <th>1011</th>\n",
       "      <td>2018-01-21</td>\n",
       "      <td>organic</td>\n",
       "      <td>2018</td>\n",
       "      <td>1.63</td>\n",
       "      <td>extra_large</td>\n",
       "      <td>1490.02</td>\n",
       "      <td>4470.06</td>\n",
       "    </tr>\n",
       "    <tr>\n",
       "      <th>1012</th>\n",
       "      <td>2018-01-14</td>\n",
       "      <td>organic</td>\n",
       "      <td>2018</td>\n",
       "      <td>1.59</td>\n",
       "      <td>extra_large</td>\n",
       "      <td>1580.01</td>\n",
       "      <td>4740.03</td>\n",
       "    </tr>\n",
       "    <tr>\n",
       "      <th>1013</th>\n",
       "      <td>2018-01-07</td>\n",
       "      <td>organic</td>\n",
       "      <td>2018</td>\n",
       "      <td>1.51</td>\n",
       "      <td>extra_large</td>\n",
       "      <td>1289.07</td>\n",
       "      <td>3867.21</td>\n",
       "    </tr>\n",
       "  </tbody>\n",
       "</table>\n",
       "</div>"
      ],
      "text/plain": [
       "            date     type  year  avg_price         size  nb_sold  3nb_sold\n",
       "1009  2018-02-04  organic  2018       1.53  extra_large  1703.52   5110.56\n",
       "1010  2018-01-28  organic  2018       1.61  extra_large  1270.61   3811.83\n",
       "1011  2018-01-21  organic  2018       1.63  extra_large  1490.02   4470.06\n",
       "1012  2018-01-14  organic  2018       1.59  extra_large  1580.01   4740.03\n",
       "1013  2018-01-07  organic  2018       1.51  extra_large  1289.07   3867.21"
      ]
     },
     "execution_count": 46,
     "metadata": {},
     "output_type": "execute_result"
    }
   ],
   "source": [
    "data.tail()"
   ]
  },
  {
   "cell_type": "code",
   "execution_count": 47,
   "id": "66606cd6",
   "metadata": {},
   "outputs": [
    {
     "data": {
      "text/plain": [
       "np.float64(1.3250000000000002)"
      ]
     },
     "execution_count": 47,
     "metadata": {},
     "output_type": "execute_result"
    }
   ],
   "source": [
    "data['avg_price'].median()"
   ]
  },
  {
   "cell_type": "code",
   "execution_count": 49,
   "id": "f80fe2a6",
   "metadata": {},
   "outputs": [
    {
     "data": {
      "text/plain": [
       "np.float64(1.3190236686390533)"
      ]
     },
     "execution_count": 49,
     "metadata": {},
     "output_type": "execute_result"
    }
   ],
   "source": [
    "data['avg_price'].mean()"
   ]
  },
  {
   "cell_type": "code",
   "execution_count": 50,
   "id": "c404a1f1",
   "metadata": {},
   "outputs": [
    {
     "data": {
      "text/plain": [
       "np.float64(0.76)"
      ]
     },
     "execution_count": 50,
     "metadata": {},
     "output_type": "execute_result"
    }
   ],
   "source": [
    "data['avg_price'].min()"
   ]
  },
  {
   "cell_type": "code",
   "execution_count": 51,
   "id": "ee573909",
   "metadata": {},
   "outputs": [
    {
     "data": {
      "text/plain": [
       "np.float64(2.09)"
      ]
     },
     "execution_count": 51,
     "metadata": {},
     "output_type": "execute_result"
    }
   ],
   "source": [
    "data['avg_price'].max()"
   ]
  },
  {
   "cell_type": "code",
   "execution_count": 52,
   "id": "656d6c1f",
   "metadata": {},
   "outputs": [
    {
     "data": {
      "application/vnd.microsoft.datawrangler.viewer.v0+json": {
       "columns": [
        {
         "name": "index",
         "rawType": "int64",
         "type": "integer"
        },
        {
         "name": "avg_price",
         "rawType": "float64",
         "type": "float"
        }
       ],
       "ref": "f16a52a6-2c3b-4891-8bf4-b98656ad99ea",
       "rows": [
        [
         "0",
         "1.0"
        ]
       ],
       "shape": {
        "columns": 1,
        "rows": 1
       }
      },
      "text/plain": [
       "0    1.0\n",
       "Name: avg_price, dtype: float64"
      ]
     },
     "execution_count": 52,
     "metadata": {},
     "output_type": "execute_result"
    }
   ],
   "source": [
    "data['avg_price'].mode()"
   ]
  },
  {
   "cell_type": "code",
   "execution_count": 56,
   "id": "b32f6487",
   "metadata": {},
   "outputs": [
    {
     "data": {
      "text/plain": [
       "np.float64(0.08712431730696216)"
      ]
     },
     "execution_count": 56,
     "metadata": {},
     "output_type": "execute_result"
    }
   ],
   "source": [
    "data['avg_price'].var()"
   ]
  },
  {
   "cell_type": "code",
   "execution_count": 57,
   "id": "84b2722b",
   "metadata": {},
   "outputs": [
    {
     "data": {
      "text/plain": [
       "np.float64(1337.49)"
      ]
     },
     "execution_count": 57,
     "metadata": {},
     "output_type": "execute_result"
    }
   ],
   "source": [
    "data['avg_price'].sum()"
   ]
  },
  {
   "cell_type": "code",
   "execution_count": 58,
   "id": "0d191774",
   "metadata": {},
   "outputs": [
    {
     "data": {
      "text/plain": [
       "np.float64(12678368908.019999)"
      ]
     },
     "execution_count": 58,
     "metadata": {},
     "output_type": "execute_result"
    }
   ],
   "source": [
    "data['3nb_sold'].sum()"
   ]
  },
  {
   "cell_type": "code",
   "execution_count": 59,
   "id": "27ef7332",
   "metadata": {},
   "outputs": [
    {
     "data": {
      "text/plain": [
       "np.float64(0.2951682864180401)"
      ]
     },
     "execution_count": 59,
     "metadata": {},
     "output_type": "execute_result"
    }
   ],
   "source": [
    "data['avg_price'].std()"
   ]
  },
  {
   "cell_type": "code",
   "execution_count": 60,
   "id": "c684f2b0",
   "metadata": {},
   "outputs": [
    {
     "data": {
      "text/plain": [
       "np.float64(1.3250000000000002)"
      ]
     },
     "execution_count": 60,
     "metadata": {},
     "output_type": "execute_result"
    }
   ],
   "source": [
    "data['avg_price'].quantile()"
   ]
  },
  {
   "cell_type": "code",
   "execution_count": 66,
   "id": "7bf84750",
   "metadata": {},
   "outputs": [
    {
     "name": "stdout",
     "output_type": "stream",
     "text": [
      "Help on function var in module pandas.core.frame:\n",
      "\n",
      "var(self, axis: 'Axis | None' = 0, skipna: 'bool' = True, ddof: 'int' = 1, numeric_only: 'bool' = False, **kwargs)\n",
      "    Return unbiased variance over requested axis.\n",
      "    \n",
      "    Normalized by N-1 by default. This can be changed using the ddof argument.\n",
      "    \n",
      "    Parameters\n",
      "    ----------\n",
      "    axis : {index (0), columns (1)}\n",
      "        For `Series` this parameter is unused and defaults to 0.\n",
      "    \n",
      "        .. warning::\n",
      "    \n",
      "            The behavior of DataFrame.var with ``axis=None`` is deprecated,\n",
      "            in a future version this will reduce over both axes and return a scalar\n",
      "            To retain the old behavior, pass axis=0 (or do not pass axis).\n",
      "    \n",
      "    skipna : bool, default True\n",
      "        Exclude NA/null values. If an entire row/column is NA, the result\n",
      "        will be NA.\n",
      "    ddof : int, default 1\n",
      "        Delta Degrees of Freedom. The divisor used in calculations is N - ddof,\n",
      "        where N represents the number of elements.\n",
      "    numeric_only : bool, default False\n",
      "        Include only float, int, boolean columns. Not implemented for Series.\n",
      "    \n",
      "    Returns\n",
      "    -------\n",
      "    Series or DataFrame (if level specified) \n",
      "    \n",
      "    Examples\n",
      "    --------\n",
      "    >>> df = pd.DataFrame({'person_id': [0, 1, 2, 3],\n",
      "    ...                    'age': [21, 25, 62, 43],\n",
      "    ...                    'height': [1.61, 1.87, 1.49, 2.01]}\n",
      "    ...                   ).set_index('person_id')\n",
      "    >>> df\n",
      "               age  height\n",
      "    person_id\n",
      "    0           21    1.61\n",
      "    1           25    1.87\n",
      "    2           62    1.49\n",
      "    3           43    2.01\n",
      "    \n",
      "    >>> df.var()\n",
      "    age       352.916667\n",
      "    height      0.056367\n",
      "    dtype: float64\n",
      "    \n",
      "    Alternatively, ``ddof=0`` can be set to normalize by N instead of N-1:\n",
      "    \n",
      "    >>> df.var(ddof=0)\n",
      "    age       264.687500\n",
      "    height      0.042275\n",
      "    dtype: float64\n",
      "\n"
     ]
    }
   ],
   "source": [
    "help(pd.DataFrame.var)"
   ]
  },
  {
   "cell_type": "markdown",
   "id": "8cda34ac",
   "metadata": {},
   "source": [
    "# Help on function mode in module pandas.core.frame:\n",
    "\n",
    "\n",
    "mode(self, axis: 'Axis' = 0, numeric_only: 'bool' = False, dropna: 'bool' = True) -> 'DataFrame'\n",
    "    Get the mode(s) of each element along the selected axis.\n",
    "    \n",
    "    The mode of a set of values is the value that appears most often.\n",
    "    It can be multiple values.\n",
    "    \n",
    "    Parameters\n",
    "    ----------\n",
    "    axis : {0 or 'index', 1 or 'columns'}, default 0\n",
    "        The axis to iterate over while searching for the mode:\n",
    "    \n",
    "        * 0 or 'index' : get mode of each column\n",
    "        * 1 or 'columns' : get mode of each row.\n",
    "    \n",
    "    numeric_only : bool, default False\n",
    "        If True, only apply to numeric columns.\n",
    "    dropna : bool, default True\n",
    "        Don't consider counts of NaN/NaT.\n",
    "    \n",
    "    Returns\n",
    "    -------\n",
    "    DataFrame\n",
    "        The modes of each column or row.\n",
    "    \n",
    "    See Also\n",
    "    --------\n",
    "    Series.mode : Return the highest frequency value in a Series.\n",
    "    Series.value_counts : Return the counts of values in a Series.\n",
    "    \n",
    "    Examples\n",
    "    --------\n",
    "    >>> df = pd.DataFrame([('bird', 2, 2),\n",
    "    ...                    ('mammal', 4, np.nan),\n",
    "    ...                    ('arthropod', 8, 0),\n",
    "    ...                    ('bird', 2, np.nan)],\n",
    "    ...                   index=('falcon', 'horse', 'spider', 'ostrich'),\n",
    "    ...                   columns=('species', 'legs', 'wings'))\n",
    "    >>> df\n",
    "               species  legs  wings\n",
    "    falcon        bird     2    2.0\n",
    "    horse       mammal     4    NaN\n",
    "    spider   arthropod     8    0.0\n",
    "    ostrich       bird     2    NaN\n",
    "    \n",
    "    By default, missing values are not considered, and the mode of wings\n",
    "    are both 0 and 2. Because the resulting DataFrame has two rows,\n",
    "    the second row of ``species`` and ``legs`` contains ``NaN``.\n",
    "    \n",
    "    >>> df.mode()\n",
    "      species  legs  wings\n",
    "    0    bird   2.0    0.0\n",
    "    1     NaN   NaN    2.0\n",
    "    \n",
    "    Setting ``dropna=False`` ``NaN`` values are considered and they can be\n",
    "    the mode (like for wings).\n",
    "    \n",
    "    >>> df.mode(dropna=False)\n",
    "      species  legs  wings\n",
    "    0    bird     2    NaN\n",
    "    \n",
    "    Setting ``numeric_only=True``, only the mode of numeric columns is\n",
    "    computed, and columns of other types are ignored.\n",
    "    \n",
    "    >>> df.mode(numeric_only=True)\n",
    "       legs  wings\n",
    "    0   2.0    0.0\n",
    "    1   NaN    2.0\n",
    "    \n",
    "    To compute the mode over columns and not rows, use the axis parameter:\n",
    "    \n",
    "    >>> df.mode(axis='columns', numeric_only=True)\n",
    "               0    1\n",
    "    falcon   2.0  NaN\n",
    "    horse    4.0  NaN\n",
    "    spider   0.0  8.0\n",
    "    ostrich  2.0  NaN"
   ]
  },
  {
   "cell_type": "code",
   "execution_count": null,
   "id": "a4089332",
   "metadata": {},
   "outputs": [
    {
     "name": "stdout",
     "output_type": "stream",
     "text": [
      "Help on function mode in module pandas.core.frame:\n",
      "\n",
      "mode(self, axis: 'Axis' = 0, numeric_only: 'bool' = False, dropna: 'bool' = True) -> 'DataFrame'\n",
      "    Get the mode(s) of each element along the selected axis.\n",
      "    \n",
      "    The mode of a set of values is the value that appears most often.\n",
      "    It can be multiple values.\n",
      "    \n",
      "    Parameters\n",
      "    ----------\n",
      "    axis : {0 or 'index', 1 or 'columns'}, default 0\n",
      "        The axis to iterate over while searching for the mode:\n",
      "    \n",
      "        * 0 or 'index' : get mode of each column\n",
      "        * 1 or 'columns' : get mode of each row.\n",
      "    \n",
      "    numeric_only : bool, default False\n",
      "        If True, only apply to numeric columns.\n",
      "    dropna : bool, default True\n",
      "        Don't consider counts of NaN/NaT.\n",
      "    \n",
      "    Returns\n",
      "    -------\n",
      "    DataFrame\n",
      "        The modes of each column or row.\n",
      "    \n",
      "    See Also\n",
      "    --------\n",
      "    Series.mode : Return the highest frequency value in a Series.\n",
      "    Series.value_counts : Return the counts of values in a Series.\n",
      "    \n",
      "    Examples\n",
      "    --------\n",
      "    >>> df = pd.DataFrame([('bird', 2, 2),\n",
      "    ...                    ('mammal', 4, np.nan),\n",
      "    ...                    ('arthropod', 8, 0),\n",
      "    ...                    ('bird', 2, np.nan)],\n",
      "    ...                   index=('falcon', 'horse', 'spider', 'ostrich'),\n",
      "    ...                   columns=('species', 'legs', 'wings'))\n",
      "    >>> df\n",
      "               species  legs  wings\n",
      "    falcon        bird     2    2.0\n",
      "    horse       mammal     4    NaN\n",
      "    spider   arthropod     8    0.0\n",
      "    ostrich       bird     2    NaN\n",
      "    \n",
      "    By default, missing values are not considered, and the mode of wings\n",
      "    are both 0 and 2. Because the resulting DataFrame has two rows,\n",
      "    the second row of ``species`` and ``legs`` contains ``NaN``.\n",
      "    \n",
      "    >>> df.mode()\n",
      "      species  legs  wings\n",
      "    0    bird   2.0    0.0\n",
      "    1     NaN   NaN    2.0\n",
      "    \n",
      "    Setting ``dropna=False`` ``NaN`` values are considered and they can be\n",
      "    the mode (like for wings).\n",
      "    \n",
      "    >>> df.mode(dropna=False)\n",
      "      species  legs  wings\n",
      "    0    bird     2    NaN\n",
      "    \n",
      "    Setting ``numeric_only=True``, only the mode of numeric columns is\n",
      "    computed, and columns of other types are ignored.\n",
      "    \n",
      "    >>> df.mode(numeric_only=True)\n",
      "       legs  wings\n",
      "    0   2.0    0.0\n",
      "    1   NaN    2.0\n",
      "    \n",
      "    To compute the mode over columns and not rows, use the axis parameter:\n",
      "    \n",
      "    >>> df.mode(axis='columns', numeric_only=True)\n",
      "               0    1\n",
      "    falcon   2.0  NaN\n",
      "    horse    4.0  NaN\n",
      "    spider   0.0  8.0\n",
      "    ostrich  2.0  NaN\n",
      "\n"
     ]
    }
   ],
   "source": [
    "# The mode of a set of values is the value that appears most often. It can be multiple values.\n",
    "help(pd.DataFrame.mode)"
   ]
  },
  {
   "cell_type": "code",
   "execution_count": 68,
   "id": "ceb84eb0",
   "metadata": {},
   "outputs": [
    {
     "name": "stdout",
     "output_type": "stream",
     "text": [
      "Help on function var in module pandas.core.frame:\n",
      "\n",
      "var(self, axis: 'Axis | None' = 0, skipna: 'bool' = True, ddof: 'int' = 1, numeric_only: 'bool' = False, **kwargs)\n",
      "    Return unbiased variance over requested axis.\n",
      "    \n",
      "    Normalized by N-1 by default. This can be changed using the ddof argument.\n",
      "    \n",
      "    Parameters\n",
      "    ----------\n",
      "    axis : {index (0), columns (1)}\n",
      "        For `Series` this parameter is unused and defaults to 0.\n",
      "    \n",
      "        .. warning::\n",
      "    \n",
      "            The behavior of DataFrame.var with ``axis=None`` is deprecated,\n",
      "            in a future version this will reduce over both axes and return a scalar\n",
      "            To retain the old behavior, pass axis=0 (or do not pass axis).\n",
      "    \n",
      "    skipna : bool, default True\n",
      "        Exclude NA/null values. If an entire row/column is NA, the result\n",
      "        will be NA.\n",
      "    ddof : int, default 1\n",
      "        Delta Degrees of Freedom. The divisor used in calculations is N - ddof,\n",
      "        where N represents the number of elements.\n",
      "    numeric_only : bool, default False\n",
      "        Include only float, int, boolean columns. Not implemented for Series.\n",
      "    \n",
      "    Returns\n",
      "    -------\n",
      "    Series or DataFrame (if level specified) \n",
      "    \n",
      "    Examples\n",
      "    --------\n",
      "    >>> df = pd.DataFrame({'person_id': [0, 1, 2, 3],\n",
      "    ...                    'age': [21, 25, 62, 43],\n",
      "    ...                    'height': [1.61, 1.87, 1.49, 2.01]}\n",
      "    ...                   ).set_index('person_id')\n",
      "    >>> df\n",
      "               age  height\n",
      "    person_id\n",
      "    0           21    1.61\n",
      "    1           25    1.87\n",
      "    2           62    1.49\n",
      "    3           43    2.01\n",
      "    \n",
      "    >>> df.var()\n",
      "    age       352.916667\n",
      "    height      0.056367\n",
      "    dtype: float64\n",
      "    \n",
      "    Alternatively, ``ddof=0`` can be set to normalize by N instead of N-1:\n",
      "    \n",
      "    >>> df.var(ddof=0)\n",
      "    age       264.687500\n",
      "    height      0.042275\n",
      "    dtype: float64\n",
      "\n"
     ]
    }
   ],
   "source": [
    "help(pd.DataFrame.var)"
   ]
  },
  {
   "cell_type": "code",
   "execution_count": 69,
   "id": "1118a5a2",
   "metadata": {},
   "outputs": [
    {
     "name": "stdout",
     "output_type": "stream",
     "text": [
      "Help on function std in module pandas.core.frame:\n",
      "\n",
      "std(self, axis: 'Axis | None' = 0, skipna: 'bool' = True, ddof: 'int' = 1, numeric_only: 'bool' = False, **kwargs)\n",
      "    Return sample standard deviation over requested axis.\n",
      "    \n",
      "    Normalized by N-1 by default. This can be changed using the ddof argument.\n",
      "    \n",
      "    Parameters\n",
      "    ----------\n",
      "    axis : {index (0), columns (1)}\n",
      "        For `Series` this parameter is unused and defaults to 0.\n",
      "    \n",
      "        .. warning::\n",
      "    \n",
      "            The behavior of DataFrame.std with ``axis=None`` is deprecated,\n",
      "            in a future version this will reduce over both axes and return a scalar\n",
      "            To retain the old behavior, pass axis=0 (or do not pass axis).\n",
      "    \n",
      "    skipna : bool, default True\n",
      "        Exclude NA/null values. If an entire row/column is NA, the result\n",
      "        will be NA.\n",
      "    ddof : int, default 1\n",
      "        Delta Degrees of Freedom. The divisor used in calculations is N - ddof,\n",
      "        where N represents the number of elements.\n",
      "    numeric_only : bool, default False\n",
      "        Include only float, int, boolean columns. Not implemented for Series.\n",
      "    \n",
      "    Returns\n",
      "    -------\n",
      "    Series or DataFrame (if level specified) \n",
      "    \n",
      "    Notes\n",
      "    -----\n",
      "    To have the same behaviour as `numpy.std`, use `ddof=0` (instead of the\n",
      "    default `ddof=1`)\n",
      "    \n",
      "    Examples\n",
      "    --------\n",
      "    >>> df = pd.DataFrame({'person_id': [0, 1, 2, 3],\n",
      "    ...                    'age': [21, 25, 62, 43],\n",
      "    ...                    'height': [1.61, 1.87, 1.49, 2.01]}\n",
      "    ...                   ).set_index('person_id')\n",
      "    >>> df\n",
      "               age  height\n",
      "    person_id\n",
      "    0           21    1.61\n",
      "    1           25    1.87\n",
      "    2           62    1.49\n",
      "    3           43    2.01\n",
      "    \n",
      "    The standard deviation of the columns can be found as follows:\n",
      "    \n",
      "    >>> df.std()\n",
      "    age       18.786076\n",
      "    height     0.237417\n",
      "    dtype: float64\n",
      "    \n",
      "    Alternatively, `ddof=0` can be set to normalize by N instead of N-1:\n",
      "    \n",
      "    >>> df.std(ddof=0)\n",
      "    age       16.269219\n",
      "    height     0.205609\n",
      "    dtype: float64\n",
      "\n"
     ]
    }
   ],
   "source": [
    "help(pd.DataFrame.std)"
   ]
  },
  {
   "cell_type": "code",
   "execution_count": null,
   "id": "a7a91927",
   "metadata": {},
   "outputs": [],
   "source": []
  }
 ],
 "metadata": {
  "kernelspec": {
   "display_name": "venv",
   "language": "python",
   "name": "python3"
  },
  "language_info": {
   "codemirror_mode": {
    "name": "ipython",
    "version": 3
   },
   "file_extension": ".py",
   "mimetype": "text/x-python",
   "name": "python",
   "nbconvert_exporter": "python",
   "pygments_lexer": "ipython3",
   "version": "3.10.12"
  }
 },
 "nbformat": 4,
 "nbformat_minor": 5
}
