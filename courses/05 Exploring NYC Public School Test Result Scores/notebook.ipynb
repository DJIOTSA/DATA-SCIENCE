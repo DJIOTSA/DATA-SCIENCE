{
 "cells": [
  {
   "cell_type": "markdown",
   "id": "9ff0bd1c",
   "metadata": {},
   "source": [
    "Project Description\n",
    "Every year, school test results impact the college admissions fate of millions of students.\n",
    "\n",
    "In this project, you will use standardized test performance data from NYC's public schools to identify the schools with top math results, look at how performance varies by borough, and find the city's top ten performing schools!"
   ]
  },
  {
   "cell_type": "markdown",
   "id": "41090c6e",
   "metadata": {},
   "source": [
    "Which NYC schools have the best math results?\n",
    "\n",
    "The best math results are at least 80% of the *maximum possible score of 800* for math.\n",
    "Save your results in a pandas DataFrame called best_math_schools, including \"school_name\" and \"average_math\" columns, sorted by \"average_math\" in descending order.\n",
    "What are the top 10 performing schools based on the combined SAT scores?\n",
    "\n",
    "Save your results as a pandas DataFrame called top_10_schools containing the \"school_name\" and a new column named \"total_SAT\", with results ordered by \"total_SAT\" in descending order (\"total_SAT\" being the sum of math, reading, and writing scores).\n",
    "Which single borough has the largest standard deviation in the combined SAT score?\n",
    "\n",
    "Save your results as a pandas DataFrame called largest_std_dev.\n",
    "The DataFrame should contain one row, with:\n",
    "\"borough\" - the name of the NYC borough with the largest standard deviation of \"total_SAT\".\n",
    "\"num_schools\" - the number of schools in the borough.\n",
    "\"average_SAT\" - the mean of \"total_SAT\".\n",
    "\"std_SAT\" - the standard deviation of \"total_SAT\".\n",
    "Round all numeric values to two decimal places."
   ]
  }
 ],
 "metadata": {
  "kernelspec": {
   "display_name": "venv",
   "language": "python",
   "name": "python3"
  },
  "language_info": {
   "codemirror_mode": {
    "name": "ipython",
    "version": 3
   },
   "file_extension": ".py",
   "mimetype": "text/x-python",
   "name": "python",
   "nbconvert_exporter": "python",
   "pygments_lexer": "ipython3",
   "version": "3.10.12"
  }
 },
 "nbformat": 4,
 "nbformat_minor": 5
}
