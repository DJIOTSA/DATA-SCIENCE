{
 "cells": [
  {
   "cell_type": "markdown",
   "id": "b540cf11-7b3d-4894-b8cb-df06ce8a76bf",
   "metadata": {},
   "source": [
    "# Introduction to Python\n",
    "Run the hidden code cell below to import the data used in this course."
   ]
  },
  {
   "cell_type": "code",
   "execution_count": 2,
   "id": "3b0b76bc",
   "metadata": {},
   "outputs": [],
   "source": [
    "import numpy as np\n",
    "import pandas as pd"
   ]
  },
  {
   "cell_type": "code",
   "execution_count": 3,
   "id": "410b1c44-499b-493e-99bc-5df6edd95fc2",
   "metadata": {
    "collapsed": false,
    "executionCancelledAt": null,
    "executionTime": 4981,
    "jupyter": {
     "outputs_hidden": false,
     "source_hidden": false
    },
    "lastExecutedAt": 1752632249282,
    "lastExecutedByKernel": "ebcbc608-eb79-4cc4-9710-92eaf4f6ced5",
    "lastScheduledRunId": null,
    "lastSuccessfullyExecutedCode": "# Importing course packages; you can add more too!\nimport numpy as np\nimport math\n\n# Import columns as numpy arrays\nbaseball_names = np.genfromtxt(\n    fname=\"baseball.csv\",  # This is the filename\n    delimiter=\",\",  # The file is comma-separated\n    usecols=0,  # Use the first column\n    skip_header=1,  # Skip the first line\n    dtype=str,  # This column contains strings\n)\nbaseball_heights = np.genfromtxt(\n    fname=\"baseball.csv\", delimiter=\",\", usecols=3, skip_header=1\n)\nbaseball_weights = np.genfromtxt(\n    fname=\"baseball.csv\", delimiter=\",\", usecols=4, skip_header=1\n)\nbaseball_ages = np.genfromtxt(\n    fname=\"baseball.csv\", delimiter=\",\", usecols=5, skip_header=1\n)\n\nsoccer_names = np.genfromtxt(\n    fname=\"soccer.csv\",\n    delimiter=\",\",\n    usecols=1,\n    skip_header=1,\n    dtype=str,\n    encoding=\"utf\", \n)\nsoccer_ratings = np.genfromtxt(\n    fname=\"soccer.csv\",\n    delimiter=\",\",\n    usecols=2,\n    skip_header=1,\n    encoding=\"utf\", \n)\nsoccer_positions = np.genfromtxt(\n    fname=\"soccer.csv\",\n    delimiter=\",\",\n    usecols=3,\n    skip_header=1,\n    encoding=\"utf\", \n    dtype=str,\n)\nsoccer_heights = np.genfromtxt(\n    fname=\"soccer.csv\",\n    delimiter=\",\",\n    usecols=4,\n    skip_header=1,\n    encoding=\"utf\", \n)\nsoccer_shooting = np.genfromtxt(\n    fname=\"soccer.csv\",\n    delimiter=\",\",\n    usecols=8,\n    skip_header=1,\n    encoding=\"utf\", \n)"
   },
   "outputs": [],
   "source": [
    "# Importing course packages; you can add more too!\n",
    "import math\n",
    "\n",
    "# Import columns as numpy arrays\n",
    "baseball_names = np.genfromtxt(\n",
    "    fname=\"baseball.csv\",  # This is the filename\n",
    "    delimiter=\",\",  # The file is comma-separated\n",
    "    usecols=0,  # Use the first column\n",
    "    skip_header=1,  # Skip the first line\n",
    "    dtype=str,  # This column contains strings\n",
    ")\n",
    "baseball_heights = np.genfromtxt(\n",
    "    fname=\"baseball.csv\", delimiter=\",\", usecols=3, skip_header=1\n",
    ")\n",
    "baseball_weights = np.genfromtxt(\n",
    "    fname=\"baseball.csv\", delimiter=\",\", usecols=4, skip_header=1\n",
    ")\n",
    "baseball_ages = np.genfromtxt(\n",
    "    fname=\"baseball.csv\", delimiter=\",\", usecols=5, skip_header=1\n",
    ")\n",
    "\n",
    "soccer_names = np.genfromtxt(\n",
    "    fname=\"fifa.csv\",\n",
    "    delimiter=\",\",\n",
    "    usecols=1,\n",
    "    skip_header=1,\n",
    "    dtype=str,\n",
    "    encoding=\"utf\", \n",
    ")\n",
    "soccer_ratings = np.genfromtxt(\n",
    "    fname=\"fifa.csv\",\n",
    "    delimiter=\",\",\n",
    "    usecols=2,\n",
    "    skip_header=1,\n",
    "    encoding=\"utf\", \n",
    ")\n",
    "soccer_positions = np.genfromtxt(\n",
    "    fname=\"fifa.csv\",\n",
    "    delimiter=\",\",\n",
    "    usecols=3,\n",
    "    skip_header=1,\n",
    "    encoding=\"utf\", \n",
    "    dtype=str,\n",
    ")\n",
    "soccer_heights = np.genfromtxt(\n",
    "    fname=\"fifa.csv\",\n",
    "    delimiter=\",\",\n",
    "    usecols=4,\n",
    "    skip_header=1,\n",
    "    encoding=\"utf\", \n",
    ")\n",
    "soccer_shooting = np.genfromtxt(\n",
    "    fname=\"fifa.csv\",\n",
    "    delimiter=\",\",\n",
    "    usecols=8,\n",
    "    skip_header=1,\n",
    "    encoding=\"utf\", \n",
    ")"
   ]
  },
  {
   "cell_type": "markdown",
   "id": "003de7ea-c1ea-4123-bbad-b64f59d1f872",
   "metadata": {},
   "source": [
    "## Take Notes\n",
    "\n",
    "Add notes about the concepts you've learned and code cells with code you want to keep."
   ]
  },
  {
   "cell_type": "markdown",
   "id": "8d911663-c6d8-41f0-bfc6-c58bf204bd41",
   "metadata": {},
   "source": [
    "_Add your notes here_"
   ]
  },
  {
   "cell_type": "markdown",
   "id": "4fc47995",
   "metadata": {},
   "source": [
    "Find in the hidden cell below some exercises to explore the data and practice your skills:"
   ]
  },
  {
   "cell_type": "markdown",
   "id": "4fbcf946-73fa-4a8c-972e-c69758e8cbbb",
   "metadata": {
    "collapsed": false,
    "jupyter": {
     "outputs_hidden": false,
     "source_hidden": false
    }
   },
   "source": [
    "## Explore Datasets\n",
    "Use the arrays imported in the first cell to explore the data and practice your skills!\n",
    "- Print out the weight of the first ten baseball players. \n",
    "- What is the median weight of all baseball players in the data? \n",
    "- Print out the names of all players with a height greater than 80 (heights are in inches). \n",
    "- Who is taller on average? Baseball players or soccer players? Keep in mind that baseball heights are stored in inches!\n",
    "- The values in `soccer_shooting` are decimals. Convert them to whole numbers (e.g., 0.98 becomes 98).\n",
    "- Do taller players get higher ratings? Calculate the correlation between `soccer_ratings` and `soccer_heights` to find out!\n",
    "- What is the average rating for attacking players (`'A'`)?"
   ]
  },
  {
   "cell_type": "code",
   "execution_count": null,
   "id": "a8994437",
   "metadata": {},
   "outputs": [
    {
     "name": "stdout",
     "output_type": "stream",
     "text": [
      "the weight of the first ten baseball players\n",
      " 0    180\n",
      "1    215\n",
      "2    210\n",
      "3    210\n",
      "4    188\n",
      "5    176\n",
      "6    209\n",
      "7    200\n",
      "8    231\n",
      "9    180\n",
      "Name: Weight, dtype: int64\n",
      "\n",
      "the median weight of all baseball players in the data\n",
      " 200.0\n",
      "\n",
      "the names of all players with a height greater than 80\n",
      " 59         Andrew_Sisco\n",
      "558       Randy_Johnson\n",
      "764    Mark_Hendrickson\n",
      "862         Chris_Young\n",
      "909           Jon_Rauch\n",
      "Name: Name, dtype: object\n",
      "182.0\n",
      "185.0\n",
      "On average baseball players are taller\n",
      "0          \n",
      "1        65\n",
      "2        54\n",
      "3        38\n",
      "4        64\n",
      "       ... \n",
      "8842     73\n",
      "8843     78\n",
      "8844     40\n",
      "8845     48\n",
      "8846     56\n",
      "Name:  shooting, Length: 8847, dtype: object\n",
      "          rating    height\n",
      "rating  1.000000  0.036496\n",
      "height  0.036496  1.000000\n",
      "\n",
      "No taller player does not have higher rating because the correlation between the height and the rating  is 0.036496\n",
      "\n",
      "the average rating for attacking players\n",
      " 67.0\n"
     ]
    }
   ],
   "source": [
    "\n",
    "baseballPlayers = pd.read_csv(\"baseball.csv\")\n",
    "soccers = pd.read_csv(\"fifa.csv\")\n",
    "# print(soccers.head(2))\n",
    "\n",
    "# Print out the weight of the first ten baseball players\n",
    "print(\"the weight of the first ten baseball players\\n\", baseballPlayers.head(10)['Weight'])\n",
    "\n",
    "# What is the median weight of all baseball players in the data? \n",
    "median_weight = baseballPlayers['Weight'].median()\n",
    "print(\"\\nthe median weight of all baseball players in the data\\n\", median_weight)\n",
    "\n",
    "# Print out the names of all players with a height greater than 80 (heights are in inches). \n",
    "print(\"\\nthe names of all players with a height greater than 80\\n\", baseballPlayers[baseballPlayers['Height'] > 80]['Name'])\n",
    "\n",
    "# Who is taller on average? Baseball players or soccer players? Keep in mind that baseball heights are stored in inches!\n",
    "soccersMedianHeight = soccers[' height'].median()\n",
    "baseballMedianHeight = baseballPlayers['Height'].median()\n",
    "print(soccersMedianHeight)\n",
    "print(baseballMedianHeight*2.5) # still have to check conversion from inches to cm\n",
    "print('On average baseball players are taller')\n",
    "\n",
    "# The values in `soccer_shooting` are decimals. Convert them to whole numbers (e.g., 0.98 becomes 98).\n",
    "soccers[' shooting']*100\n",
    "print(soccers[' shooting'])\n",
    "# Do taller players get higher ratings? Calculate the correlation between `soccer_ratings` and `soccer_heights` to find out!\n",
    "soccersCorr = soccers[soccers[' height']> 175][[' rating', ' height']].corr()\n",
    "b = soccersCorr > 0.5 \n",
    "result = \"\"\n",
    "print(soccersCorr)\n",
    "print('\\nNo taller player does not have higher rating because the correlation between the height and the rating  is 0.036496')\n",
    "\n",
    "# What is the average rating for attacking players (`'A'`)?\n",
    "print(\"\\nthe average rating for attacking players\\n\", soccers[soccers[' position'] == ' A'][' rating'].median())"
   ]
  },
  {
   "cell_type": "code",
   "execution_count": 60,
   "id": "919a8355",
   "metadata": {},
   "outputs": [
    {
     "name": "stdout",
     "output_type": "stream",
     "text": [
      "[ 91  86  11 -40  78  -8 132 456  34 -67 -68]\n",
      "[ 45  43   5 -20  39  -4  66 228  17 -34 -34]\n",
      "[ 45.5  43.    5.5 -20.   39.   -4.   66.  228.   17.  -33.5 -34. ]\n"
     ]
    },
    {
     "data": {
      "text/plain": [
       "(11,)"
      ]
     },
     "execution_count": 60,
     "metadata": {},
     "output_type": "execute_result"
    }
   ],
   "source": [
    "import numpy as np\n",
    "a= [1,3,5,-6,78,-8,9,0,-56,-69,-73]\n",
    "b= [90,83,6, -34,0,0,123,456,90,2,5]\n",
    "x = np.array(a)\n",
    "y = np.array(b)\n",
    "z = x+y\n",
    "t= z**4\n",
    "print(z)\n",
    "print(z//2)\n",
    "print((z/2))\n",
    "z.shape\n"
   ]
  },
  {
   "cell_type": "code",
   "execution_count": null,
   "id": "29f33910",
   "metadata": {},
   "outputs": [
    {
     "name": "stdout",
     "output_type": "stream",
     "text": [
      "np array shape:  (6, 11)\n",
      "the row we are going to manipulate (e[1]):\n",
      " [ 91  86  11 -40  78  -8 132 456  34 -67 -68]\n",
      "\n",
      "Mean:\n",
      " 64.0909090909091\n",
      "\n",
      "Mean:\n",
      " 64.0909090909091\n",
      "\n",
      "Median:\n",
      " 34.0\n",
      "\n",
      "Correlation coefficient of e[1] and e[2]:\n",
      " [[1.         0.36907129]\n",
      " [0.36907129 1.        ]]\n",
      "\n",
      "Correlation of row  [15663]\n",
      "\n",
      "Sorting: None\n"
     ]
    }
   ],
   "source": [
    "e = np.array([t,z,x,y,x+z,y-t])\n",
    "print(\"np array shape: \", e.shape)\n",
    "print(\"the row we are going to manipulate (e[1]):\\n\", e[1])\n",
    "print(\"\\nMean:\\n\", e[1].sum()/e[1].size)\n",
    "print(\"\\nMean:\\n\", np.mean(e[1]))\n",
    "print(\"\\nMedian:\\n\", np.median(e[1]))\n",
    "print(\"\\nCorrelation coefficient of e[1] and e[2]:\\n\", np.corrcoef(e[1], e[2]))\n",
    "print(\"\\nCorrelation of row \", np.correlate(e[1],e[2],))\n",
    "print(\"\\nSorting:\", e[1].sort())\n",
    "\n",
    "\n"
   ]
  },
  {
   "cell_type": "code",
   "execution_count": 12,
   "id": "147f8832",
   "metadata": {},
   "outputs": [],
   "source": [
    "# generate numpy data\n",
    "\n",
    "numpy_array = np.round(np.random.randint(-10000,90870,[800000,10]))\n",
    "numpy_array1 = np.round(np.random.normal(-10000,90870,[800000,10]),3)"
   ]
  },
  {
   "cell_type": "code",
   "execution_count": 13,
   "id": "f74f1f4e",
   "metadata": {},
   "outputs": [
    {
     "name": "stdout",
     "output_type": "stream",
     "text": [
      "40404.03793125\n",
      "40365.0\n",
      "[[ -51288.702  -11261.928   46994.405 ...   41843.127  -33608.308\n",
      "    12001.27 ]\n",
      " [ -10115.614  -58526.215   48870.308 ...  -36252.382 -121741.567\n",
      "    17735.482]\n",
      " [   6800.883  135335.646   42465.053 ...   82089.706   27542.104\n",
      "    46447.989]\n",
      " ...\n",
      " [ -63893.85    89570.676    7029.544 ...   75429.655   49241.204\n",
      "   147872.283]\n",
      " [  35402.614  -92252.012   45583.649 ...  135269.36   151305.68\n",
      "   -51430.134]\n",
      " [ -66364.715  -21198.074  111933.846 ...   31681.024 -109200.505\n",
      "    97429.119]]\n"
     ]
    }
   ],
   "source": [
    "print(np.mean(numpy_array[:,2]))\n",
    "print(np.median(numpy_array[:,2]))\n",
    "print(numpy_array1)\n"
   ]
  },
  {
   "cell_type": "code",
   "execution_count": null,
   "id": "28b9b7eb",
   "metadata": {},
   "outputs": [],
   "source": []
  }
 ],
 "metadata": {
  "editor": "DataCamp Workspace",
  "kernelspec": {
   "display_name": "venv",
   "language": "python",
   "name": "python3"
  },
  "language_info": {
   "codemirror_mode": {
    "name": "ipython",
    "version": 3
   },
   "file_extension": ".py",
   "mimetype": "text/x-python",
   "name": "python",
   "nbconvert_exporter": "python",
   "pygments_lexer": "ipython3",
   "version": "3.10.12"
  }
 },
 "nbformat": 4,
 "nbformat_minor": 5
}
